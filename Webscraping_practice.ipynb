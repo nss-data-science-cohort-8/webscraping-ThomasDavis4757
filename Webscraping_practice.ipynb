{
 "cells": [
  {
   "cell_type": "code",
   "execution_count": 105,
   "id": "c9d2b681",
   "metadata": {},
   "outputs": [],
   "source": [
    "import requests\n",
    "from bs4 import BeautifulSoup\n",
    "from IPython.core.display import HTML\n",
    "import pandas as pd\n",
    "import io\n",
    "import datetime as dt\n",
    "from datetime import timedelta"
   ]
  },
  {
   "cell_type": "markdown",
   "id": "3d1014de",
   "metadata": {},
   "source": [
    "## #1  - Get data and turn it into soup object."
   ]
  },
  {
   "cell_type": "code",
   "execution_count": 2,
   "id": "545b21fa",
   "metadata": {},
   "outputs": [],
   "source": [
    "URL = 'https://realpython.github.io/fake-jobs'\n",
    "\n",
    "response = requests.get(URL)\n",
    "response.status_code\n",
    "soup = BeautifulSoup(response.text, features=\"html.parser\")"
   ]
  },
  {
   "cell_type": "code",
   "execution_count": 3,
   "id": "92092d62",
   "metadata": {},
   "outputs": [
    {
     "data": {
      "text/plain": [
       "'<!DOCTYPE html>\\n<html>\\n <head>\\n  <meta charset=\"utf-8\"/>\\n  <meta content=\"width=device-width, initial-scale=1\" name=\"viewport\"/>\\n  <title>\\n   Fake Python\\n  </title>\\n  <link href=\"https://cdn.jsdelivr.net/npm/bulma@0.9.2/css/bulma.min.css\" rel=\"stylesheet\"/>\\n </head>\\n <body>\\n  <section class=\"section\">\\n   <div class=\"container mb-5\">\\n    <h1 class=\"title is-1\">\\n     Fake Python\\n    </h1>\\n    <p class=\"subtitle is-3\">\\n     Fake Jobs for Your Web Scraping Journey\\n    </p>\\n   </div>\\n   <div class=\"container\">\\n    <div class=\"columns is-multiline\" id=\"ResultsContainer\">\\n     <div class=\"column is-half\">\\n      <div class=\"card\">\\n       <div class=\"card-content\">\\n        <div class=\"media\">\\n         <div class=\"media-left\">\\n          <figure class=\"image is-48x48\">\\n           <img alt=\"Real Python Logo\" src=\"https://files.realpython.com/media/real-python-logo-thumbnail.7f0db70c2ed2.jpg?__no_cf_polish=1\"/>\\n          </figure>\\n         </div>\\n         <div class=\"media-content\">\\n          <h2 class=\"title is-5\">\\n           Senior Python Developer\\n          </h2>\\n          <h3 class=\"subtitle is-6 company\">\\n           Payne, Roberts and Davis\\n          </h3>\\n         </div>\\n        </div>\\n        <div class=\"content\">\\n         <p class=\"location\">\\n          Stewartbury, AA\\n         </p>\\n         <p class=\"is-small has-text-grey\">\\n          <time datetime=\"2021-04-08\">\\n           2021-04-08\\n          </time>\\n         </p>\\n        </div>\\n        <footer class=\"card-footer\">\\n         <a class=\"card-footer-item\" href=\"https://www.realpython.com\" target=\"_blank\">\\n          Learn\\n         </a>\\n         <a class=\"card-footer-item\" href=\"https://realpython.github.io/fake-jobs/jobs/senior-python-developer-0.html\" target=\"_blank\">\\n          Apply\\n         </a>\\n        </footer>\\n       </div>\\n      </div>\\n     </div>\\n     <div class=\"column is-half\">\\n      <div class=\"card\">\\n       <div class=\"card-content\">\\n        <div class=\"media\">\\n         <div class=\"media-left\">\\n          <figure class=\"image is-48x48\">\\n           <img alt=\"Real Python Logo\" src=\"https://files.realpython.com/media/real-python-logo-thumbnail.7f0db70c2ed2.jpg?__no_cf_polish=1\"/>\\n          </figure>\\n         </div>\\n         <div class=\"media-content\">\\n          <h2 class=\"title is-5\">\\n           Energy engineer\\n          </h2>\\n          <h3 class=\"subtitle is-6 company\">\\n           Vasquez-Davidson\\n          </h3>\\n         </div>\\n        </div>\\n        <div class=\"content\">\\n         <p class=\"location\">\\n          Christopherville, AA\\n         </p>\\n         <p class=\"is-small has-text-grey\">\\n          <time datetime=\"2021-04-08\">\\n           2021-04-08\\n          </time>\\n         </p>\\n        </div>\\n        <footer class=\"card-footer\">\\n         <a class=\"card-footer-item\" href=\"https://www.realpython.com\" target=\"_blank\">\\n          Learn\\n         </a>\\n         <a class=\"card-footer-item\" href=\"https://realpython.github.io/fake-jobs/jobs/energy-engineer-1.html\" target=\"_blank\">\\n          Apply\\n         </a>\\n        </footer>\\n       </div>\\n      </div>\\n     </div>\\n     <div class=\"column is-half\">\\n      <div class=\"card\">\\n       <div class=\"card-content\">\\n        <div class=\"media\">\\n         <div class=\"media-left\">\\n          <figure class=\"image is-48x48\">\\n           <img alt=\"Real Python Logo\" src=\"https://files.realpython.com/media/real-python-logo-thumbnail.7f0db70c2ed2.jpg?__no_cf_polish=1\"/>\\n          </figure>\\n         </div>\\n         <div class=\"media-content\">\\n          <h2 class=\"title is-5\">\\n           Legal executive\\n          </h2>\\n          <h3 class=\"subtitle is-6 company\">\\n           Jackson, Chambers and Levy\\n          </h3>\\n         </div>\\n        </div>\\n        <div class=\"content\">\\n         <p class=\"location\">\\n          Port Ericaburgh, AA\\n         </p>\\n         <p class=\"is-small has-text-grey\">\\n          <time datetime=\"2021-04-08\">\\n           2021-04-08\\n          </time>\\n         </p>\\n        </div>\\n        <footer class=\"card-footer\">\\n         <a class=\"card-footer-item\" href=\"https://www.realpython.com\" target=\"_blank\">\\n          Learn\\n         </a>\\n         <a class=\"card-footer-item\" href=\"https://realpython.github.io/fake-jobs/jobs/legal-executive-2.html\" target=\"_blank\">\\n          Apply\\n         </a>\\n        </footer>\\n       </div>\\n      </div>\\n     </div>\\n     <div class=\"column is-half\">\\n      <div class=\"card\">\\n       <div class=\"card-content\">\\n        <div class=\"media\">\\n         <div class=\"media-left\">\\n          <figure class=\"image is-48x48\">\\n           <img alt=\"Real Python Logo\" src=\"https://files.realpython.com/media/real-python-logo-thumbnail.7f0db70c2ed2.jpg?__no_cf_polish=1\"/>\\n          </figure>\\n         </div>\\n         <div class=\"media-content\">\\n          <h2 class=\"title is-5\">\\n           Fitness centre manager\\n          </h2>\\n          <h3 class=\"subtitle is-6 company\">\\n           Savage-Bradley\\n          </h3>\\n         </div>\\n        </div>\\n        <div class=\"content\">\\n         <p class=\"location\">\\n          East Seanview, AP\\n         </p>\\n         <p class=\"is-small has-text-grey\">\\n          <time datetime=\"2021-04-08\">\\n           2021-04-08\\n          </time>\\n         </p>\\n        </div>\\n        <footer class=\"card-footer\">\\n         <a class=\"card-footer-item\" href=\"https://www.realpython.com\" target=\"_blank\">\\n          Learn\\n         </a>\\n         <a class=\"card-footer-item\" href=\"https://realpython.github.io/fake-jobs/jobs/fitness-centre-manager-3.html\" target=\"_blank\">\\n          Apply\\n         </a>\\n        </footer>\\n       </div>\\n      </div>\\n     </div>\\n     <div class=\"column is-half\">\\n      <div class=\"card\">\\n       <div class=\"card-content\">\\n        <div class=\"media\">\\n         <div class=\"media-left\">\\n          <figure class=\"image is-48x48\">\\n           <img alt=\"Real Python Logo\" src=\"https://files.realpython.com/media/real-python-logo-thumbnail.7f0db70c2ed2.jpg?__no_cf_polish=1\"/>\\n          </figure>\\n         </div>\\n         <div class=\"media-content\">\\n          <h2 class=\"title is-5\">\\n           Product manager\\n          </h2>\\n          <h3 class=\"subtitle is-6 company\">\\n           Ramirez Inc\\n          </h3>\\n         </div>\\n        </div>\\n        <div class=\"content\">\\n         <p class=\"location\">\\n          North Jamieview, AP\\n         </p>\\n         <p class=\"is-small has-text-grey\">\\n          <time datetime=\"2021-04-08\">\\n           2021-04-08\\n          </time>\\n         </p>\\n        </div>\\n        <footer class=\"card-footer\">\\n         <a class=\"card-footer-item\" href=\"https://www.realpython.com\" target=\"_blank\">\\n          Learn\\n         </a>\\n         <a class=\"card-footer-item\" href=\"https://realpython.github.io/fake-jobs/jobs/product-manager-4.html\" target=\"_blank\">\\n          Apply\\n         </a>\\n        </footer>\\n       </div>\\n      </div>\\n     </div>\\n     <div class=\"column is-half\">\\n      <div class=\"card\">\\n       <div class=\"card-content\">\\n        <div class=\"media\">\\n         <div class=\"media-left\">\\n          <figure class=\"image is-48x48\">\\n           <img alt=\"Real Python Logo\" src=\"https://files.realpython.com/media/real-python-logo-thumbnail.7f0db70c2ed2.jpg?__no_cf_polish=1\"/>\\n          </figure>\\n         </div>\\n         <div class=\"media-content\">\\n          <h2 class=\"title is-5\">\\n           Medical technical officer\\n          </h2>\\n          <h3 class=\"subtitle is-6 company\">\\n           Rogers-Yates\\n          </h3>\\n         </div>\\n        </div>\\n        <div class=\"content\">\\n         <p class=\"location\">\\n          Davidville, AP\\n         </p>\\n         <p class=\"is-small has-text-grey\">\\n          <time datetime=\"2021-04-08\">\\n           2021-04-08\\n          </time>\\n         </p>\\n        </div>\\n        <footer class=\"card-footer\">\\n         <a class=\"card-footer-item\" href=\"https://www.realpython.com\" target=\"_blank\">\\n          Learn\\n         </a>\\n         <a class=\"card-footer-item\" href=\"https://realpython.github.io/fake-jobs/jobs/medical-technical-officer-5.html\" target=\"_blank\">\\n          Apply\\n         </a>\\n        </footer>\\n       </div>\\n      </div>\\n     </div>\\n     <div class=\"column is-half\">\\n      <div class=\"card\">\\n       <div class=\"card-content\">\\n        <div class=\"media\">\\n         <div class=\"media-left\">\\n          <figure class=\"image is-48x48\">\\n           <img alt=\"Real Python Logo\" src=\"https://files.realpython.com/media/real-python-logo-thumbnail.7f0db70c2ed2.jpg?__no_cf_polish=1\"/>\\n          </figure>\\n         </div>\\n         <div class=\"media-content\">\\n          <h2 class=\"title is-5\">\\n           Physiological scientist\\n          </h2>\\n          <h3 class=\"subtitle is-6 company\">\\n           Kramer-Klein\\n          </h3>\\n         </div>\\n        </div>\\n        <div class=\"content\">\\n         <p class=\"location\">\\n          South Christopher, AE\\n         </p>\\n         <p class=\"is-small has-text-grey\">\\n          <time datetime=\"2021-04-08\">\\n           2021-04-08\\n          </time>\\n         </p>\\n        </div>\\n        <footer class=\"card-footer\">\\n         <a class=\"card-footer-item\" href=\"https://www.realpython.com\" target=\"_blank\">\\n          Learn\\n         </a>\\n         <a class=\"card-footer-item\" href=\"https://realpython.github.io/fake-jobs/jobs/physiological-scientist-6.html\" target=\"_blank\">\\n          Apply\\n         </a>\\n        </footer>\\n       </div>\\n      </div>\\n     </div>\\n     <div class=\"column is-half\">\\n      <div class=\"card\">\\n       <div class=\"card-content\">\\n        <div class=\"media\">\\n         <div class=\"media-left\">\\n          <figure class=\"image is-48x48\">\\n           <img alt=\"Real Python Logo\" src=\"https://files.realpython.com/media/real-python-logo-thumbnail.7f0db70c2ed2.jpg?__no_cf_polish=1\"/>\\n          </figure>\\n         </div>\\n         <div class=\"media-content\">\\n          <h2 class=\"title is-5\">\\n           Textile designer\\n          </h2>\\n          <h3 class=\"subtitle is-6 company\">\\n           Meyers-Johnson\\n          </h3>\\n         </div>\\n        </div>\\n        <div class=\"content\">\\n         <p class=\"location\">\\n          Port Jonathan, AE\\n         </p>\\n         <p class=\"is-small has-text-grey\">\\n          <time datetime=\"2021-04-08\">\\n           2021-04-08\\n          </time>\\n         </p>\\n        </div>\\n        <footer class=\"card-footer\">\\n         <a class=\"card-footer-item\" href=\"https://www.realpython.com\" target=\"_blank\">\\n          Learn\\n         </a>\\n         <a class=\"card-footer-item\" href=\"https://realpython.github.io/fake-jobs/jobs/textile-designer-7.html\" target=\"_blank\">\\n          Apply\\n         </a>\\n        </footer>\\n       </div>\\n      </div>\\n     </div>\\n     <div class=\"column is-half\">\\n      <div class=\"card\">\\n       <div class=\"card-content\">\\n        <div class=\"media\">\\n         <div class=\"media-left\">\\n          <figure class=\"image is-48x48\">\\n           <img alt=\"Real Python Logo\" src=\"https://files.realpython.com/media/real-python-logo-thumbnail.7f0db70c2ed2.jpg?__no_cf_polish=1\"/>\\n          </figure>\\n         </div>\\n         <div class=\"media-content\">\\n          <h2 class=\"title is-5\">\\n           Television floor manager\\n          </h2>\\n          <h3 class=\"subtitle is-6 company\">\\n           Hughes-Williams\\n          </h3>\\n         </div>\\n        </div>\\n        <div class=\"content\">\\n         <p class=\"location\">\\n          Osbornetown, AE\\n         </p>\\n         <p class=\"is-small has-text-grey\">\\n          <time datetime=\"2021-04-08\">\\n           2021-04-08\\n          </time>\\n         </p>\\n        </div>\\n        <footer class=\"card-footer\">\\n         <a class=\"card-footer-item\" href=\"https://www.realpython.com\" target=\"_blank\">\\n          Learn\\n         </a>\\n         <a class=\"card-footer-item\" href=\"https://realpython.github.io/fake-jobs/jobs/television-floor-manager-8.html\" target=\"_blank\">\\n          Apply\\n         </a>\\n        </footer>\\n       </div>\\n      </div>\\n     </div>\\n     <div class=\"column is-half\">\\n      <div class=\"card\">\\n       <div class=\"card-content\">\\n        <div class=\"media\">\\n         <div class=\"media-left\">\\n          <figure class=\"image is-48x48\">\\n           <img alt=\"Real Python Logo\" src=\"https://files.realpython.com/media/real-python-logo-thumbnail.7f0db70c2ed2.jpg?__no_cf_polish=1\"/>\\n          </figure>\\n         </div>\\n         <div class=\"media-content\">\\n          <h2 class=\"title is-5\">\\n           Waste management officer\\n          </h2>\\n          <h3 class=\"subtitle is-6 company\">\\n           Jones, Williams and Villa\\n          </h3>\\n         </div>\\n        </div>\\n        <div class=\"content\">\\n         <p class=\"location\">\\n          Scotttown, AP\\n         </p>\\n         <p class=\"is-small has-text-grey\">\\n          <time datetime=\"2021-04-08\">\\n           2021-04-08\\n          </time>\\n         </p>\\n        </div>\\n        <footer class=\"card-footer\">\\n         <a class=\"card-footer-item\" href=\"https://www.realpython.com\" target=\"_blank\">\\n          Learn\\n         </a>\\n         <a class=\"card-footer-item\" href=\"https://realpython.github.io/fake-jobs/jobs/waste-management-officer-9.html\" target=\"_blank\">\\n          Apply\\n         </a>\\n        </footer>\\n       </div>\\n      </div>\\n     </div>\\n     <div class=\"column is-half\">\\n      <div class=\"card\">\\n       <div class=\"card-content\">\\n        <div class=\"media\">\\n         <div class=\"media-left\">\\n          <figure class=\"image is-48x48\">\\n           <img alt=\"Real Python Logo\" src=\"https://files.realpython.com/media/real-python-logo-thumbnail.7f0db70c2ed2.jpg?__no_cf_polish=1\"/>\\n          </figure>\\n         </div>\\n         <div class=\"media-content\">\\n          <h2 class=\"title is-5\">\\n           Software Engineer (Python)\\n          </h2>\\n          <h3 class=\"subtitle is-6 company\">\\n           Garcia PLC\\n          </h3>\\n         </div>\\n        </div>\\n        <div class=\"content\">\\n         <p class=\"location\">\\n          Ericberg, AE\\n         </p>\\n         <p class=\"is-small has-text-grey\">\\n          <time datetime=\"2021-04-08\">\\n           2021-04-08\\n          </time>\\n         </p>\\n        </div>\\n        <footer class=\"card-footer\">\\n         <a class=\"card-footer-item\" href=\"https://www.realpython.com\" target=\"_blank\">\\n          Learn\\n         </a>\\n         <a class=\"card-footer-item\" href=\"https://realpython.github.io/fake-jobs/jobs/software-engineer-python-10.html\" target=\"_blank\">\\n          Apply\\n         </a>\\n        </footer>\\n       </div>\\n      </div>\\n     </div>\\n     <div class=\"column is-half\">\\n      <div class=\"card\">\\n       <div class=\"card-content\">\\n        <div class=\"media\">\\n         <div class=\"media-left\">\\n          <figure class=\"image is-48x48\">\\n           <img alt=\"Real Python Logo\" src=\"https://files.realpython.com/media/real-python-logo-thumbnail.7f0db70c2ed2.jpg?__no_cf_polish=1\"/>\\n          </figure>\\n         </div>\\n         <div class=\"media-content\">\\n          <h2 class=\"title is-5\">\\n           Interpreter\\n          </h2>\\n          <h3 class=\"subtitle is-6 company\">\\n           Gregory and Sons\\n          </h3>\\n         </div>\\n        </div>\\n        <div class=\"content\">\\n         <p class=\"location\">\\n          Ramireztown, AE\\n         </p>\\n         <p class=\"is-small has-text-grey\">\\n          <time datetime=\"2021-04-08\">\\n           2021-04-08\\n          </time>\\n         </p>\\n        </div>\\n        <footer class=\"card-footer\">\\n         <a class=\"card-footer-item\" href=\"https://www.realpython.com\" target=\"_blank\">\\n          Learn\\n         </a>\\n         <a class=\"card-footer-item\" href=\"https://realpython.github.io/fake-jobs/jobs/interpreter-11.html\" target=\"_blank\">\\n          Apply\\n         </a>\\n        </footer>\\n       </div>\\n      </div>\\n     </div>\\n     <div class=\"column is-half\">\\n      <div class=\"card\">\\n       <div class=\"card-content\">\\n        <div class=\"media\">\\n         <div class=\"media-left\">\\n          <figure class=\"image is-48x48\">\\n           <img alt=\"Real Python Logo\" src=\"https://files.realpython.com/media/real-python-logo-thumbnail.7f0db70c2ed2.jpg?__no_cf_polish=1\"/>\\n          </figure>\\n         </div>\\n         <div class=\"media-content\">\\n          <h2 class=\"title is-5\">\\n           Architect\\n          </h2>\\n          <h3 class=\"subtitle is-6 company\">\\n           Clark, Garcia and Sosa\\n          </h3>\\n         </div>\\n        </div>\\n        <div class=\"content\">\\n         <p class=\"location\">\\n          Figueroaview, AA\\n         </p>\\n         <p class=\"is-small has-text-grey\">\\n          <time datetime=\"2021-04-08\">\\n           2021-04-08\\n          </time>\\n         </p>\\n        </div>\\n        <footer class=\"card-footer\">\\n         <a class=\"card-footer-item\" href=\"https://www.realpython.com\" target=\"_blank\">\\n          Learn\\n         </a>\\n         <a class=\"card-footer-item\" href=\"https://realpython.github.io/fake-jobs/jobs/architect-12.html\" target=\"_blank\">\\n          Apply\\n         </a>\\n        </footer>\\n       </div>\\n      </div>\\n     </div>\\n     <div class=\"column is-half\">\\n      <div class=\"card\">\\n       <div class=\"card-content\">\\n        <div class=\"media\">\\n         <div class=\"media-left\">\\n          <figure class=\"image is-48x48\">\\n           <img alt=\"Real Python Logo\" src=\"https://files.realpython.com/media/real-python-logo-thumbnail.7f0db70c2ed2.jpg?__no_cf_polish=1\"/>\\n          </figure>\\n         </div>\\n         <div class=\"media-content\">\\n          <h2 class=\"title is-5\">\\n           Meteorologist\\n          </h2>\\n          <h3 class=\"subtitle is-6 company\">\\n           Bush PLC\\n          </h3>\\n         </div>\\n        </div>\\n        <div class=\"content\">\\n         <p class=\"location\">\\n          Kelseystad, AA\\n         </p>\\n         <p class=\"is-small has-text-grey\">\\n          <time datetime=\"2021-04-08\">\\n           2021-04-08\\n          </time>\\n         </p>\\n        </div>\\n        <footer class=\"card-footer\">\\n         <a class=\"card-footer-item\" href=\"https://www.realpython.com\" target=\"_blank\">\\n          Learn\\n         </a>\\n         <a class=\"card-footer-item\" href=\"https://realpython.github.io/fake-jobs/jobs/meteorologist-13.html\" target=\"_blank\">\\n          Apply\\n         </a>\\n        </footer>\\n       </div>\\n      </div>\\n     </div>\\n     <div class=\"column is-half\">\\n      <div class=\"card\">\\n       <div class=\"card-content\">\\n        <div class=\"media\">\\n         <div class=\"media-left\">\\n          <figure class=\"image is-48x48\">\\n           <img alt=\"Real Python Logo\" src=\"https://files.realpython.com/media/real-python-logo-thumbnail.7f0db70c2ed2.jpg?__no_cf_polish=1\"/>\\n          </figure>\\n         </div>\\n         <div class=\"media-content\">\\n          <h2 class=\"title is-5\">\\n           Audiological scientist\\n          </h2>\\n          <h3 class=\"subtitle is-6 company\">\\n           Salazar-Meyers\\n          </h3>\\n         </div>\\n        </div>\\n        <div class=\"content\">\\n         <p class=\"location\">\\n          Williamsburgh, AE\\n         </p>\\n         <p class=\"is-small has-text-grey\">\\n          <time datetime=\"2021-04-08\">\\n           2021-04-08\\n          </time>\\n         </p>\\n        </div>\\n        <footer class=\"card-footer\">\\n         <a class=\"card-footer-item\" href=\"https://www.realpython.com\" target=\"_blank\">\\n          Learn\\n         </a>\\n         <a class=\"card-footer-item\" href=\"https://realpython.github.io/fake-jobs/jobs/audiological-scientist-14.html\" target=\"_blank\">\\n          Apply\\n         </a>\\n        </footer>\\n       </div>\\n      </div>\\n     </div>\\n     <div class=\"column is-half\">\\n      <div class=\"card\">\\n       <div class=\"card-content\">\\n        <div class=\"media\">\\n         <div class=\"media-left\">\\n          <figure class=\"image is-48x48\">\\n           <img alt=\"Real Python Logo\" src=\"https://files.realpython.com/media/real-python-logo-thumbnail.7f0db70c2ed2.jpg?__no_cf_polish=1\"/>\\n          </figure>\\n         </div>\\n         <div class=\"media-content\">\\n          <h2 class=\"title is-5\">\\n           English as a second language teacher\\n          </h2>\\n          <h3 class=\"subtitle is-6 company\">\\n           Parker, Murphy and Brooks\\n          </h3>\\n         </div>\\n        </div>\\n        <div class=\"content\">\\n         <p class=\"location\">\\n          Mitchellburgh, AE\\n         </p>\\n         <p class=\"is-small has-text-grey\">\\n          <time datetime=\"2021-04-08\">\\n           2021-04-08\\n          </time>\\n         </p>\\n        </div>\\n        <footer class=\"card-footer\">\\n         <a class=\"card-footer-item\" href=\"https://www.realpython.com\" target=\"_blank\">\\n          Learn\\n         </a>\\n         <a class=\"card-footer-item\" href=\"https://realpython.github.io/fake-jobs/jobs/english-as-a-second-language-teacher-15.html\" target=\"_blank\">\\n          Apply\\n         </a>\\n        </footer>\\n       </div>\\n      </div>\\n     </div>\\n     <div class=\"column is-half\">\\n      <div class=\"card\">\\n       <div class=\"card-content\">\\n        <div class=\"media\">\\n         <div class=\"media-left\">\\n          <figure class=\"image is-48x48\">\\n           <img alt=\"Real Python Logo\" src=\"https://files.realpython.com/media/real-python-logo-thumbnail.7f0db70c2ed2.jpg?__no_cf_polish=1\"/>\\n          </figure>\\n         </div>\\n         <div class=\"media-content\">\\n          <h2 class=\"title is-5\">\\n           Surgeon\\n          </h2>\\n          <h3 class=\"subtitle is-6 company\">\\n           Cruz-Brown\\n          </h3>\\n         </div>\\n        </div>\\n        <div class=\"content\">\\n         <p class=\"location\">\\n          West Jessicabury, AA\\n         </p>\\n         <p class=\"is-small has-text-grey\">\\n          <time datetime=\"2021-04-08\">\\n           2021-04-08\\n          </time>\\n         </p>\\n        </div>\\n        <footer class=\"card-footer\">\\n         <a class=\"card-footer-item\" href=\"https://www.realpython.com\" target=\"_blank\">\\n          Learn\\n         </a>\\n         <a class=\"card-footer-item\" href=\"https://realpython.github.io/fake-jobs/jobs/surgeon-16.html\" target=\"_blank\">\\n          Apply\\n         </a>\\n        </footer>\\n       </div>\\n      </div>\\n     </div>\\n     <div class=\"column is-half\">\\n      <div class=\"card\">\\n       <div class=\"card-content\">\\n        <div class=\"media\">\\n         <div class=\"media-left\">\\n          <figure class=\"image is-48x48\">\\n           <img alt=\"Real Python Logo\" src=\"https://files.realpython.com/media/real-python-logo-thumbnail.7f0db70c2ed2.jpg?__no_cf_polish=1\"/>\\n          </figure>\\n         </div>\\n         <div class=\"media-content\">\\n          <h2 class=\"title is-5\">\\n           Equities trader\\n          </h2>\\n          <h3 class=\"subtitle is-6 company\">\\n           Macdonald-Ferguson\\n          </h3>\\n         </div>\\n        </div>\\n        <div class=\"content\">\\n         <p class=\"location\">\\n          Maloneshire, AE\\n         </p>\\n         <p class=\"is-small has-text-grey\">\\n          <time datetime=\"2021-04-08\">\\n           2021-04-08\\n          </time>\\n         </p>\\n        </div>\\n        <footer class=\"card-footer\">\\n         <a class=\"card-footer-item\" href=\"https://www.realpython.com\" target=\"_blank\">\\n          Learn\\n         </a>\\n         <a class=\"card-footer-item\" href=\"https://realpython.github.io/fake-jobs/jobs/equities-trader-17.html\" target=\"_blank\">\\n          Apply\\n         </a>\\n        </footer>\\n       </div>\\n      </div>\\n     </div>\\n     <div class=\"column is-half\">\\n      <div class=\"card\">\\n       <div class=\"card-content\">\\n        <div class=\"media\">\\n         <div class=\"media-left\">\\n          <figure class=\"image is-48x48\">\\n           <img alt=\"Real Python Logo\" src=\"https://files.realpython.com/media/real-python-logo-thumbnail.7f0db70c2ed2.jpg?__no_cf_polish=1\"/>\\n          </figure>\\n         </div>\\n         <div class=\"media-content\">\\n          <h2 class=\"title is-5\">\\n           Newspaper journalist\\n          </h2>\\n          <h3 class=\"subtitle is-6 company\">\\n           Williams, Peterson and Rojas\\n          </h3>\\n         </div>\\n        </div>\\n        <div class=\"content\">\\n         <p class=\"location\">\\n          Johnsonton, AA\\n         </p>\\n         <p class=\"is-small has-text-grey\">\\n          <time datetime=\"2021-04-08\">\\n           2021-04-08\\n          </time>\\n         </p>\\n        </div>\\n        <footer class=\"card-footer\">\\n         <a class=\"card-footer-item\" href=\"https://www.realpython.com\" target=\"_blank\">\\n          Learn\\n         </a>\\n         <a class=\"card-footer-item\" href=\"https://realpython.github.io/fake-jobs/jobs/newspaper-journalist-18.html\" target=\"_blank\">\\n          Apply\\n         </a>\\n        </footer>\\n       </div>\\n      </div>\\n     </div>\\n     <div class=\"column is-half\">\\n      <div class=\"card\">\\n       <div class=\"card-content\">\\n        <div class=\"media\">\\n         <div class=\"media-left\">\\n          <figure class=\"image is-48x48\">\\n           <img alt=\"Real Python Logo\" src=\"https://files.realpython.com/media/real-python-logo-thumbnail.7f0db70c2ed2.jpg?__no_cf_polish=1\"/>\\n          </figure>\\n         </div>\\n         <div class=\"media-content\">\\n          <h2 class=\"title is-5\">\\n           Materials engineer\\n          </h2>\\n          <h3 class=\"subtitle is-6 company\">\\n           Smith and Sons\\n          </h3>\\n         </div>\\n        </div>\\n        <div class=\"content\">\\n         <p class=\"location\">\\n          South Davidtown, AP\\n         </p>\\n         <p class=\"is-small has-text-grey\">\\n          <time datetime=\"2021-04-08\">\\n           2021-04-08\\n          </time>\\n         </p>\\n        </div>\\n        <footer class=\"card-footer\">\\n         <a class=\"card-footer-item\" href=\"https://www.realpython.com\" target=\"_blank\">\\n          Learn\\n         </a>\\n         <a class=\"card-footer-item\" href=\"https://realpython.github.io/fake-jobs/jobs/materials-engineer-19.html\" target=\"_blank\">\\n          Apply\\n         </a>\\n        </footer>\\n       </div>\\n      </div>\\n     </div>\\n     <div class=\"column is-half\">\\n      <div class=\"card\">\\n       <div class=\"card-content\">\\n        <div class=\"media\">\\n         <div class=\"media-left\">\\n          <figure class=\"image is-48x48\">\\n           <img alt=\"Real Python Logo\" src=\"https://files.realpython.com/media/real-python-logo-thumbnail.7f0db70c2ed2.jpg?__no_cf_polish=1\"/>\\n          </figure>\\n         </div>\\n         <div class=\"media-content\">\\n          <h2 class=\"title is-5\">\\n           Python Programmer (Entry-Level)\\n          </h2>\\n          <h3 class=\"subtitle is-6 company\">\\n           Moss, Duncan and Allen\\n          </h3>\\n         </div>\\n        </div>\\n        <div class=\"content\">\\n         <p class=\"location\">\\n          Port Sara, AE\\n         </p>\\n         <p class=\"is-small has-text-grey\">\\n          <time datetime=\"2021-04-08\">\\n           2021-04-08\\n          </time>\\n         </p>\\n        </div>\\n        <footer class=\"card-footer\">\\n         <a class=\"card-footer-item\" href=\"https://www.realpython.com\" target=\"_blank\">\\n          Learn\\n         </a>\\n         <a class=\"card-footer-item\" href=\"https://realpython.github.io/fake-jobs/jobs/python-programmer-entry-level-20.html\" target=\"_blank\">\\n          Apply\\n         </a>\\n        </footer>\\n       </div>\\n      </div>\\n     </div>\\n     <div class=\"column is-half\">\\n      <div class=\"card\">\\n       <div class=\"card-content\">\\n        <div class=\"media\">\\n         <div class=\"media-left\">\\n          <figure class=\"image is-48x48\">\\n           <img alt=\"Real Python Logo\" src=\"https://files.realpython.com/media/real-python-logo-thumbnail.7f0db70c2ed2.jpg?__no_cf_polish=1\"/>\\n          </figure>\\n         </div>\\n         <div class=\"media-content\">\\n          <h2 class=\"title is-5\">\\n           Product/process development scientist\\n          </h2>\\n          <h3 class=\"subtitle is-6 company\">\\n           Gomez-Carroll\\n          </h3>\\n         </div>\\n        </div>\\n        <div class=\"content\">\\n         <p class=\"location\">\\n          Marktown, AA\\n         </p>\\n         <p class=\"is-small has-text-grey\">\\n          <time datetime=\"2021-04-08\">\\n           2021-04-08\\n          </time>\\n         </p>\\n        </div>\\n        <footer class=\"card-footer\">\\n         <a class=\"card-footer-item\" href=\"https://www.realpython.com\" target=\"_blank\">\\n          Learn\\n         </a>\\n         <a class=\"card-footer-item\" href=\"https://realpython.github.io/fake-jobs/jobs/product-process-development-scientist-21.html\" target=\"_blank\">\\n          Apply\\n         </a>\\n        </footer>\\n       </div>\\n      </div>\\n     </div>\\n     <div class=\"column is-half\">\\n      <div class=\"card\">\\n       <div class=\"card-content\">\\n        <div class=\"media\">\\n         <div class=\"media-left\">\\n          <figure class=\"image is-48x48\">\\n           <img alt=\"Real Python Logo\" src=\"https://files.realpython.com/media/real-python-logo-thumbnail.7f0db70c2ed2.jpg?__no_cf_polish=1\"/>\\n          </figure>\\n         </div>\\n         <div class=\"media-content\">\\n          <h2 class=\"title is-5\">\\n           Scientist, research (maths)\\n          </h2>\\n          <h3 class=\"subtitle is-6 company\">\\n           Manning, Welch and Herring\\n          </h3>\\n         </div>\\n        </div>\\n        <div class=\"content\">\\n         <p class=\"location\">\\n          Laurenland, AE\\n         </p>\\n         <p class=\"is-small has-text-grey\">\\n          <time datetime=\"2021-04-08\">\\n           2021-04-08\\n          </time>\\n         </p>\\n        </div>\\n        <footer class=\"card-footer\">\\n         <a class=\"card-footer-item\" href=\"https://www.realpython.com\" target=\"_blank\">\\n          Learn\\n         </a>\\n         <a class=\"card-footer-item\" href=\"https://realpython.github.io/fake-jobs/jobs/scientist-research-maths-22.html\" target=\"_blank\">\\n          Apply\\n         </a>\\n        </footer>\\n       </div>\\n      </div>\\n     </div>\\n     <div class=\"column is-half\">\\n      <div class=\"card\">\\n       <div class=\"card-content\">\\n        <div class=\"media\">\\n         <div class=\"media-left\">\\n          <figure class=\"image is-48x48\">\\n           <img alt=\"Real Python Logo\" src=\"https://files.realpython.com/media/real-python-logo-thumbnail.7f0db70c2ed2.jpg?__no_cf_polish=1\"/>\\n          </figure>\\n         </div>\\n         <div class=\"media-content\">\\n          <h2 class=\"title is-5\">\\n           Ecologist\\n          </h2>\\n          <h3 class=\"subtitle is-6 company\">\\n           Lee, Gutierrez and Brown\\n          </h3>\\n         </div>\\n        </div>\\n        <div class=\"content\">\\n         <p class=\"location\">\\n          Lauraton, AP\\n         </p>\\n         <p class=\"is-small has-text-grey\">\\n          <time datetime=\"2021-04-08\">\\n           2021-04-08\\n          </time>\\n         </p>\\n        </div>\\n        <footer class=\"card-footer\">\\n         <a class=\"card-footer-item\" href=\"https://www.realpython.com\" target=\"_blank\">\\n          Learn\\n         </a>\\n         <a class=\"card-footer-item\" href=\"https://realpython.github.io/fake-jobs/jobs/ecologist-23.html\" target=\"_blank\">\\n          Apply\\n         </a>\\n        </footer>\\n       </div>\\n      </div>\\n     </div>\\n     <div class=\"column is-half\">\\n      <div class=\"card\">\\n       <div class=\"card-content\">\\n        <div class=\"media\">\\n         <div class=\"media-left\">\\n          <figure class=\"image is-48x48\">\\n           <img alt=\"Real Python Logo\" src=\"https://files.realpython.com/media/real-python-logo-thumbnail.7f0db70c2ed2.jpg?__no_cf_polish=1\"/>\\n          </figure>\\n         </div>\\n         <div class=\"media-content\">\\n          <h2 class=\"title is-5\">\\n           Materials engineer\\n          </h2>\\n          <h3 class=\"subtitle is-6 company\">\\n           Davis, Serrano and Cook\\n          </h3>\\n         </div>\\n        </div>\\n        <div class=\"content\">\\n         <p class=\"location\">\\n          South Tammyberg, AP\\n         </p>\\n         <p class=\"is-small has-text-grey\">\\n          <time datetime=\"2021-04-08\">\\n           2021-04-08\\n          </time>\\n         </p>\\n        </div>\\n        <footer class=\"card-footer\">\\n         <a class=\"card-footer-item\" href=\"https://www.realpython.com\" target=\"_blank\">\\n          Learn\\n         </a>\\n         <a class=\"card-footer-item\" href=\"https://realpython.github.io/fake-jobs/jobs/materials-engineer-24.html\" target=\"_blank\">\\n          Apply\\n         </a>\\n        </footer>\\n       </div>\\n      </div>\\n     </div>\\n     <div class=\"column is-half\">\\n      <div class=\"card\">\\n       <div class=\"card-content\">\\n        <div class=\"media\">\\n         <div class=\"media-left\">\\n          <figure class=\"image is-48x48\">\\n           <img alt=\"Real Python Logo\" src=\"https://files.realpython.com/media/real-python-logo-thumbnail.7f0db70c2ed2.jpg?__no_cf_polish=1\"/>\\n          </figure>\\n         </div>\\n         <div class=\"media-content\">\\n          <h2 class=\"title is-5\">\\n           Historic buildings inspector/conservation officer\\n          </h2>\\n          <h3 class=\"subtitle is-6 company\">\\n           Smith LLC\\n          </h3>\\n         </div>\\n        </div>\\n        <div class=\"content\">\\n         <p class=\"location\">\\n          North Brandonville, AP\\n         </p>\\n         <p class=\"is-small has-text-grey\">\\n          <time datetime=\"2021-04-08\">\\n           2021-04-08\\n          </time>\\n         </p>\\n        </div>\\n        <footer class=\"card-footer\">\\n         <a class=\"card-footer-item\" href=\"https://www.realpython.com\" target=\"_blank\">\\n          Learn\\n         </a>\\n         <a class=\"card-footer-item\" href=\"https://realpython.github.io/fake-jobs/jobs/historic-buildings-inspector-conservation-officer-25.html\" target=\"_blank\">\\n          Apply\\n         </a>\\n        </footer>\\n       </div>\\n      </div>\\n     </div>\\n     <div class=\"column is-half\">\\n      <div class=\"card\">\\n       <div class=\"card-content\">\\n        <div class=\"media\">\\n         <div class=\"media-left\">\\n          <figure class=\"image is-48x48\">\\n           <img alt=\"Real Python Logo\" src=\"https://files.realpython.com/media/real-python-logo-thumbnail.7f0db70c2ed2.jpg?__no_cf_polish=1\"/>\\n          </figure>\\n         </div>\\n         <div class=\"media-content\">\\n          <h2 class=\"title is-5\">\\n           Data scientist\\n          </h2>\\n          <h3 class=\"subtitle is-6 company\">\\n           Thomas Group\\n          </h3>\\n         </div>\\n        </div>\\n        <div class=\"content\">\\n         <p class=\"location\">\\n          Port Robertfurt, AA\\n         </p>\\n         <p class=\"is-small has-text-grey\">\\n          <time datetime=\"2021-04-08\">\\n           2021-04-08\\n          </time>\\n         </p>\\n        </div>\\n        <footer class=\"card-footer\">\\n         <a class=\"card-footer-item\" href=\"https://www.realpython.com\" target=\"_blank\">\\n          Learn\\n         </a>\\n         <a class=\"card-footer-item\" href=\"https://realpython.github.io/fake-jobs/jobs/data-scientist-26.html\" target=\"_blank\">\\n          Apply\\n         </a>\\n        </footer>\\n       </div>\\n      </div>\\n     </div>\\n     <div class=\"column is-half\">\\n      <div class=\"card\">\\n       <div class=\"card-content\">\\n        <div class=\"media\">\\n         <div class=\"media-left\">\\n          <figure class=\"image is-48x48\">\\n           <img alt=\"Real Python Logo\" src=\"https://files.realpython.com/media/real-python-logo-thumbnail.7f0db70c2ed2.jpg?__no_cf_polish=1\"/>\\n          </figure>\\n         </div>\\n         <div class=\"media-content\">\\n          <h2 class=\"title is-5\">\\n           Psychiatrist\\n          </h2>\\n          <h3 class=\"subtitle is-6 company\">\\n           Silva-King\\n          </h3>\\n         </div>\\n        </div>\\n        <div class=\"content\">\\n         <p class=\"location\">\\n          Burnettbury, AE\\n         </p>\\n         <p class=\"is-small has-text-grey\">\\n          <time datetime=\"2021-04-08\">\\n           2021-04-08\\n          </time>\\n         </p>\\n        </div>\\n        <footer class=\"card-footer\">\\n         <a class=\"card-footer-item\" href=\"https://www.realpython.com\" target=\"_blank\">\\n          Learn\\n         </a>\\n         <a class=\"card-footer-item\" href=\"https://realpython.github.io/fake-jobs/jobs/psychiatrist-27.html\" target=\"_blank\">\\n          Apply\\n         </a>\\n        </footer>\\n       </div>\\n      </div>\\n     </div>\\n     <div class=\"column is-half\">\\n      <div class=\"card\">\\n       <div class=\"card-content\">\\n        <div class=\"media\">\\n         <div class=\"media-left\">\\n          <figure class=\"image is-48x48\">\\n           <img alt=\"Real Python Logo\" src=\"https://files.realpython.com/media/real-python-logo-thumbnail.7f0db70c2ed2.jpg?__no_cf_polish=1\"/>\\n          </figure>\\n         </div>\\n         <div class=\"media-content\">\\n          <h2 class=\"title is-5\">\\n           Structural engineer\\n          </h2>\\n          <h3 class=\"subtitle is-6 company\">\\n           Pierce-Long\\n          </h3>\\n         </div>\\n        </div>\\n        <div class=\"content\">\\n         <p class=\"location\">\\n          Herbertside, AA\\n         </p>\\n         <p class=\"is-small has-text-grey\">\\n          <time datetime=\"2021-04-08\">\\n           2021-04-08\\n          </time>\\n         </p>\\n        </div>\\n        <footer class=\"card-footer\">\\n         <a class=\"card-footer-item\" href=\"https://www.realpython.com\" target=\"_blank\">\\n          Learn\\n         </a>\\n         <a class=\"card-footer-item\" href=\"https://realpython.github.io/fake-jobs/jobs/structural-engineer-28.html\" target=\"_blank\">\\n          Apply\\n         </a>\\n        </footer>\\n       </div>\\n      </div>\\n     </div>\\n     <div class=\"column is-half\">\\n      <div class=\"card\">\\n       <div class=\"card-content\">\\n        <div class=\"media\">\\n         <div class=\"media-left\">\\n          <figure class=\"image is-48x48\">\\n           <img alt=\"Real Python Logo\" src=\"https://files.realpython.com/media/real-python-logo-thumbnail.7f0db70c2ed2.jpg?__no_cf_polish=1\"/>\\n          </figure>\\n         </div>\\n         <div class=\"media-content\">\\n          <h2 class=\"title is-5\">\\n           Immigration officer\\n          </h2>\\n          <h3 class=\"subtitle is-6 company\">\\n           Walker-Simpson\\n          </h3>\\n         </div>\\n        </div>\\n        <div class=\"content\">\\n         <p class=\"location\">\\n          Christopherport, AP\\n         </p>\\n         <p class=\"is-small has-text-grey\">\\n          <time datetime=\"2021-04-08\">\\n           2021-04-08\\n          </time>\\n         </p>\\n        </div>\\n        <footer class=\"card-footer\">\\n         <a class=\"card-footer-item\" href=\"https://www.realpython.com\" target=\"_blank\">\\n          Learn\\n         </a>\\n         <a class=\"card-footer-item\" href=\"https://realpython.github.io/fake-jobs/jobs/immigration-officer-29.html\" target=\"_blank\">\\n          Apply\\n         </a>\\n        </footer>\\n       </div>\\n      </div>\\n     </div>\\n     <div class=\"column is-half\">\\n      <div class=\"card\">\\n       <div class=\"card-content\">\\n        <div class=\"media\">\\n         <div class=\"media-left\">\\n          <figure class=\"image is-48x48\">\\n           <img alt=\"Real Python Logo\" src=\"https://files.realpython.com/media/real-python-logo-thumbnail.7f0db70c2ed2.jpg?__no_cf_polish=1\"/>\\n          </figure>\\n         </div>\\n         <div class=\"media-content\">\\n          <h2 class=\"title is-5\">\\n           Python Programmer (Entry-Level)\\n          </h2>\\n          <h3 class=\"subtitle is-6 company\">\\n           Cooper and Sons\\n          </h3>\\n         </div>\\n        </div>\\n        <div class=\"content\">\\n         <p class=\"location\">\\n          West Victor, AE\\n         </p>\\n         <p class=\"is-small has-text-grey\">\\n          <time datetime=\"2021-04-08\">\\n           2021-04-08\\n          </time>\\n         </p>\\n        </div>\\n        <footer class=\"card-footer\">\\n         <a class=\"card-footer-item\" href=\"https://www.realpython.com\" target=\"_blank\">\\n          Learn\\n         </a>\\n         <a class=\"card-footer-item\" href=\"https://realpython.github.io/fake-jobs/jobs/python-programmer-entry-level-30.html\" target=\"_blank\">\\n          Apply\\n         </a>\\n        </footer>\\n       </div>\\n      </div>\\n     </div>\\n     <div class=\"column is-half\">\\n      <div class=\"card\">\\n       <div class=\"card-content\">\\n        <div class=\"media\">\\n         <div class=\"media-left\">\\n          <figure class=\"image is-48x48\">\\n           <img alt=\"Real Python Logo\" src=\"https://files.realpython.com/media/real-python-logo-thumbnail.7f0db70c2ed2.jpg?__no_cf_polish=1\"/>\\n          </figure>\\n         </div>\\n         <div class=\"media-content\">\\n          <h2 class=\"title is-5\">\\n           Neurosurgeon\\n          </h2>\\n          <h3 class=\"subtitle is-6 company\">\\n           Donovan, Gonzalez and Figueroa\\n          </h3>\\n         </div>\\n        </div>\\n        <div class=\"content\">\\n         <p class=\"location\">\\n          Port Aaron, AP\\n         </p>\\n         <p class=\"is-small has-text-grey\">\\n          <time datetime=\"2021-04-08\">\\n           2021-04-08\\n          </time>\\n         </p>\\n        </div>\\n        <footer class=\"card-footer\">\\n         <a class=\"card-footer-item\" href=\"https://www.realpython.com\" target=\"_blank\">\\n          Learn\\n         </a>\\n         <a class=\"card-footer-item\" href=\"https://realpython.github.io/fake-jobs/jobs/neurosurgeon-31.html\" target=\"_blank\">\\n          Apply\\n         </a>\\n        </footer>\\n       </div>\\n      </div>\\n     </div>\\n     <div class=\"column is-half\">\\n      <div class=\"card\">\\n       <div class=\"card-content\">\\n        <div class=\"media\">\\n         <div class=\"media-left\">\\n          <figure class=\"image is-48x48\">\\n           <img alt=\"Real Python Logo\" src=\"https://files.realpython.com/media/real-python-logo-thumbnail.7f0db70c2ed2.jpg?__no_cf_polish=1\"/>\\n          </figure>\\n         </div>\\n         <div class=\"media-content\">\\n          <h2 class=\"title is-5\">\\n           Broadcast engineer\\n          </h2>\\n          <h3 class=\"subtitle is-6 company\">\\n           Morgan, Butler and Bennett\\n          </h3>\\n         </div>\\n        </div>\\n        <div class=\"content\">\\n         <p class=\"location\">\\n          Loribury, AA\\n         </p>\\n         <p class=\"is-small has-text-grey\">\\n          <time datetime=\"2021-04-08\">\\n           2021-04-08\\n          </time>\\n         </p>\\n        </div>\\n        <footer class=\"card-footer\">\\n         <a class=\"card-footer-item\" href=\"https://www.realpython.com\" target=\"_blank\">\\n          Learn\\n         </a>\\n         <a class=\"card-footer-item\" href=\"https://realpython.github.io/fake-jobs/jobs/broadcast-engineer-32.html\" target=\"_blank\">\\n          Apply\\n         </a>\\n        </footer>\\n       </div>\\n      </div>\\n     </div>\\n     <div class=\"column is-half\">\\n      <div class=\"card\">\\n       <div class=\"card-content\">\\n        <div class=\"media\">\\n         <div class=\"media-left\">\\n          <figure class=\"image is-48x48\">\\n           <img alt=\"Real Python Logo\" src=\"https://files.realpython.com/media/real-python-logo-thumbnail.7f0db70c2ed2.jpg?__no_cf_polish=1\"/>\\n          </figure>\\n         </div>\\n         <div class=\"media-content\">\\n          <h2 class=\"title is-5\">\\n           Make\\n          </h2>\\n          <h3 class=\"subtitle is-6 company\">\\n           Snyder-Lee\\n          </h3>\\n         </div>\\n        </div>\\n        <div class=\"content\">\\n         <p class=\"location\">\\n          Angelastad, AP\\n         </p>\\n         <p class=\"is-small has-text-grey\">\\n          <time datetime=\"2021-04-08\">\\n           2021-04-08\\n          </time>\\n         </p>\\n        </div>\\n        <footer class=\"card-footer\">\\n         <a class=\"card-footer-item\" href=\"https://www.realpython.com\" target=\"_blank\">\\n          Learn\\n         </a>\\n         <a class=\"card-footer-item\" href=\"https://realpython.github.io/fake-jobs/jobs/make-33.html\" target=\"_blank\">\\n          Apply\\n         </a>\\n        </footer>\\n       </div>\\n      </div>\\n     </div>\\n     <div class=\"column is-half\">\\n      <div class=\"card\">\\n       <div class=\"card-content\">\\n        <div class=\"media\">\\n         <div class=\"media-left\">\\n          <figure class=\"image is-48x48\">\\n           <img alt=\"Real Python Logo\" src=\"https://files.realpython.com/media/real-python-logo-thumbnail.7f0db70c2ed2.jpg?__no_cf_polish=1\"/>\\n          </figure>\\n         </div>\\n         <div class=\"media-content\">\\n          <h2 class=\"title is-5\">\\n           Nurse, adult\\n          </h2>\\n          <h3 class=\"subtitle is-6 company\">\\n           Harris PLC\\n          </h3>\\n         </div>\\n        </div>\\n        <div class=\"content\">\\n         <p class=\"location\">\\n          Larrytown, AE\\n         </p>\\n         <p class=\"is-small has-text-grey\">\\n          <time datetime=\"2021-04-08\">\\n           2021-04-08\\n          </time>\\n         </p>\\n        </div>\\n        <footer class=\"card-footer\">\\n         <a class=\"card-footer-item\" href=\"https://www.realpython.com\" target=\"_blank\">\\n          Learn\\n         </a>\\n         <a class=\"card-footer-item\" href=\"https://realpython.github.io/fake-jobs/jobs/nurse-adult-34.html\" target=\"_blank\">\\n          Apply\\n         </a>\\n        </footer>\\n       </div>\\n      </div>\\n     </div>\\n     <div class=\"column is-half\">\\n      <div class=\"card\">\\n       <div class=\"card-content\">\\n        <div class=\"media\">\\n         <div class=\"media-left\">\\n          <figure class=\"image is-48x48\">\\n           <img alt=\"Real Python Logo\" src=\"https://files.realpython.com/media/real-python-logo-thumbnail.7f0db70c2ed2.jpg?__no_cf_polish=1\"/>\\n          </figure>\\n         </div>\\n         <div class=\"media-content\">\\n          <h2 class=\"title is-5\">\\n           Air broker\\n          </h2>\\n          <h3 class=\"subtitle is-6 company\">\\n           Washington PLC\\n          </h3>\\n         </div>\\n        </div>\\n        <div class=\"content\">\\n         <p class=\"location\">\\n          West Colin, AP\\n         </p>\\n         <p class=\"is-small has-text-grey\">\\n          <time datetime=\"2021-04-08\">\\n           2021-04-08\\n          </time>\\n         </p>\\n        </div>\\n        <footer class=\"card-footer\">\\n         <a class=\"card-footer-item\" href=\"https://www.realpython.com\" target=\"_blank\">\\n          Learn\\n         </a>\\n         <a class=\"card-footer-item\" href=\"https://realpython.github.io/fake-jobs/jobs/air-broker-35.html\" target=\"_blank\">\\n          Apply\\n         </a>\\n        </footer>\\n       </div>\\n      </div>\\n     </div>\\n     <div class=\"column is-half\">\\n      <div class=\"card\">\\n       <div class=\"card-content\">\\n        <div class=\"media\">\\n         <div class=\"media-left\">\\n          <figure class=\"image is-48x48\">\\n           <img alt=\"Real Python Logo\" src=\"https://files.realpython.com/media/real-python-logo-thumbnail.7f0db70c2ed2.jpg?__no_cf_polish=1\"/>\\n          </figure>\\n         </div>\\n         <div class=\"media-content\">\\n          <h2 class=\"title is-5\">\\n           Editor, film/video\\n          </h2>\\n          <h3 class=\"subtitle is-6 company\">\\n           Brown, Price and Campbell\\n          </h3>\\n         </div>\\n        </div>\\n        <div class=\"content\">\\n         <p class=\"location\">\\n          West Stephanie, AP\\n         </p>\\n         <p class=\"is-small has-text-grey\">\\n          <time datetime=\"2021-04-08\">\\n           2021-04-08\\n          </time>\\n         </p>\\n        </div>\\n        <footer class=\"card-footer\">\\n         <a class=\"card-footer-item\" href=\"https://www.realpython.com\" target=\"_blank\">\\n          Learn\\n         </a>\\n         <a class=\"card-footer-item\" href=\"https://realpython.github.io/fake-jobs/jobs/editor-film-video-36.html\" target=\"_blank\">\\n          Apply\\n         </a>\\n        </footer>\\n       </div>\\n      </div>\\n     </div>\\n     <div class=\"column is-half\">\\n      <div class=\"card\">\\n       <div class=\"card-content\">\\n        <div class=\"media\">\\n         <div class=\"media-left\">\\n          <figure class=\"image is-48x48\">\\n           <img alt=\"Real Python Logo\" src=\"https://files.realpython.com/media/real-python-logo-thumbnail.7f0db70c2ed2.jpg?__no_cf_polish=1\"/>\\n          </figure>\\n         </div>\\n         <div class=\"media-content\">\\n          <h2 class=\"title is-5\">\\n           Production assistant, radio\\n          </h2>\\n          <h3 class=\"subtitle is-6 company\">\\n           Mcgee PLC\\n          </h3>\\n         </div>\\n        </div>\\n        <div class=\"content\">\\n         <p class=\"location\">\\n          Laurentown, AP\\n         </p>\\n         <p class=\"is-small has-text-grey\">\\n          <time datetime=\"2021-04-08\">\\n           2021-04-08\\n          </time>\\n         </p>\\n        </div>\\n        <footer class=\"card-footer\">\\n         <a class=\"card-footer-item\" href=\"https://www.realpython.com\" target=\"_blank\">\\n          Learn\\n         </a>\\n         <a class=\"card-footer-item\" href=\"https://realpython.github.io/fake-jobs/jobs/production-assistant-radio-37.html\" target=\"_blank\">\\n          Apply\\n         </a>\\n        </footer>\\n       </div>\\n      </div>\\n     </div>\\n     <div class=\"column is-half\">\\n      <div class=\"card\">\\n       <div class=\"card-content\">\\n        <div class=\"media\">\\n         <div class=\"media-left\">\\n          <figure class=\"image is-48x48\">\\n           <img alt=\"Real Python Logo\" src=\"https://files.realpython.com/media/real-python-logo-thumbnail.7f0db70c2ed2.jpg?__no_cf_polish=1\"/>\\n          </figure>\\n         </div>\\n         <div class=\"media-content\">\\n          <h2 class=\"title is-5\">\\n           Engineer, communications\\n          </h2>\\n          <h3 class=\"subtitle is-6 company\">\\n           Dixon Inc\\n          </h3>\\n         </div>\\n        </div>\\n        <div class=\"content\">\\n         <p class=\"location\">\\n          Wrightberg, AP\\n         </p>\\n         <p class=\"is-small has-text-grey\">\\n          <time datetime=\"2021-04-08\">\\n           2021-04-08\\n          </time>\\n         </p>\\n        </div>\\n        <footer class=\"card-footer\">\\n         <a class=\"card-footer-item\" href=\"https://www.realpython.com\" target=\"_blank\">\\n          Learn\\n         </a>\\n         <a class=\"card-footer-item\" href=\"https://realpython.github.io/fake-jobs/jobs/engineer-communications-38.html\" target=\"_blank\">\\n          Apply\\n         </a>\\n        </footer>\\n       </div>\\n      </div>\\n     </div>\\n     <div class=\"column is-half\">\\n      <div class=\"card\">\\n       <div class=\"card-content\">\\n        <div class=\"media\">\\n         <div class=\"media-left\">\\n          <figure class=\"image is-48x48\">\\n           <img alt=\"Real Python Logo\" src=\"https://files.realpython.com/media/real-python-logo-thumbnail.7f0db70c2ed2.jpg?__no_cf_polish=1\"/>\\n          </figure>\\n         </div>\\n         <div class=\"media-content\">\\n          <h2 class=\"title is-5\">\\n           Sales executive\\n          </h2>\\n          <h3 class=\"subtitle is-6 company\">\\n           Thompson, Sheppard and Ward\\n          </h3>\\n         </div>\\n        </div>\\n        <div class=\"content\">\\n         <p class=\"location\">\\n          Alberttown, AE\\n         </p>\\n         <p class=\"is-small has-text-grey\">\\n          <time datetime=\"2021-04-08\">\\n           2021-04-08\\n          </time>\\n         </p>\\n        </div>\\n        <footer class=\"card-footer\">\\n         <a class=\"card-footer-item\" href=\"https://www.realpython.com\" target=\"_blank\">\\n          Learn\\n         </a>\\n         <a class=\"card-footer-item\" href=\"https://realpython.github.io/fake-jobs/jobs/sales-executive-39.html\" target=\"_blank\">\\n          Apply\\n         </a>\\n        </footer>\\n       </div>\\n      </div>\\n     </div>\\n     <div class=\"column is-half\">\\n      <div class=\"card\">\\n       <div class=\"card-content\">\\n        <div class=\"media\">\\n         <div class=\"media-left\">\\n          <figure class=\"image is-48x48\">\\n           <img alt=\"Real Python Logo\" src=\"https://files.realpython.com/media/real-python-logo-thumbnail.7f0db70c2ed2.jpg?__no_cf_polish=1\"/>\\n          </figure>\\n         </div>\\n         <div class=\"media-content\">\\n          <h2 class=\"title is-5\">\\n           Software Developer (Python)\\n          </h2>\\n          <h3 class=\"subtitle is-6 company\">\\n           Adams-Brewer\\n          </h3>\\n         </div>\\n        </div>\\n        <div class=\"content\">\\n         <p class=\"location\">\\n          Brockburgh, AE\\n         </p>\\n         <p class=\"is-small has-text-grey\">\\n          <time datetime=\"2021-04-08\">\\n           2021-04-08\\n          </time>\\n         </p>\\n        </div>\\n        <footer class=\"card-footer\">\\n         <a class=\"card-footer-item\" href=\"https://www.realpython.com\" target=\"_blank\">\\n          Learn\\n         </a>\\n         <a class=\"card-footer-item\" href=\"https://realpython.github.io/fake-jobs/jobs/software-developer-python-40.html\" target=\"_blank\">\\n          Apply\\n         </a>\\n        </footer>\\n       </div>\\n      </div>\\n     </div>\\n     <div class=\"column is-half\">\\n      <div class=\"card\">\\n       <div class=\"card-content\">\\n        <div class=\"media\">\\n         <div class=\"media-left\">\\n          <figure class=\"image is-48x48\">\\n           <img alt=\"Real Python Logo\" src=\"https://files.realpython.com/media/real-python-logo-thumbnail.7f0db70c2ed2.jpg?__no_cf_polish=1\"/>\\n          </figure>\\n         </div>\\n         <div class=\"media-content\">\\n          <h2 class=\"title is-5\">\\n           Futures trader\\n          </h2>\\n          <h3 class=\"subtitle is-6 company\">\\n           Schneider-Brady\\n          </h3>\\n         </div>\\n        </div>\\n        <div class=\"content\">\\n         <p class=\"location\">\\n          North Jason, AE\\n         </p>\\n         <p class=\"is-small has-text-grey\">\\n          <time datetime=\"2021-04-08\">\\n           2021-04-08\\n          </time>\\n         </p>\\n        </div>\\n        <footer class=\"card-footer\">\\n         <a class=\"card-footer-item\" href=\"https://www.realpython.com\" target=\"_blank\">\\n          Learn\\n         </a>\\n         <a class=\"card-footer-item\" href=\"https://realpython.github.io/fake-jobs/jobs/futures-trader-41.html\" target=\"_blank\">\\n          Apply\\n         </a>\\n        </footer>\\n       </div>\\n      </div>\\n     </div>\\n     <div class=\"column is-half\">\\n      <div class=\"card\">\\n       <div class=\"card-content\">\\n        <div class=\"media\">\\n         <div class=\"media-left\">\\n          <figure class=\"image is-48x48\">\\n           <img alt=\"Real Python Logo\" src=\"https://files.realpython.com/media/real-python-logo-thumbnail.7f0db70c2ed2.jpg?__no_cf_polish=1\"/>\\n          </figure>\\n         </div>\\n         <div class=\"media-content\">\\n          <h2 class=\"title is-5\">\\n           Tour manager\\n          </h2>\\n          <h3 class=\"subtitle is-6 company\">\\n           Gonzales-Frank\\n          </h3>\\n         </div>\\n        </div>\\n        <div class=\"content\">\\n         <p class=\"location\">\\n          Arnoldhaven, AE\\n         </p>\\n         <p class=\"is-small has-text-grey\">\\n          <time datetime=\"2021-04-08\">\\n           2021-04-08\\n          </time>\\n         </p>\\n        </div>\\n        <footer class=\"card-footer\">\\n         <a class=\"card-footer-item\" href=\"https://www.realpython.com\" target=\"_blank\">\\n          Learn\\n         </a>\\n         <a class=\"card-footer-item\" href=\"https://realpython.github.io/fake-jobs/jobs/tour-manager-42.html\" target=\"_blank\">\\n          Apply\\n         </a>\\n        </footer>\\n       </div>\\n      </div>\\n     </div>\\n     <div class=\"column is-half\">\\n      <div class=\"card\">\\n       <div class=\"card-content\">\\n        <div class=\"media\">\\n         <div class=\"media-left\">\\n          <figure class=\"image is-48x48\">\\n           <img alt=\"Real Python Logo\" src=\"https://files.realpython.com/media/real-python-logo-thumbnail.7f0db70c2ed2.jpg?__no_cf_polish=1\"/>\\n          </figure>\\n         </div>\\n         <div class=\"media-content\">\\n          <h2 class=\"title is-5\">\\n           Cytogeneticist\\n          </h2>\\n          <h3 class=\"subtitle is-6 company\">\\n           Smith-Wong\\n          </h3>\\n         </div>\\n        </div>\\n        <div class=\"content\">\\n         <p class=\"location\">\\n          Lake Destiny, AP\\n         </p>\\n         <p class=\"is-small has-text-grey\">\\n          <time datetime=\"2021-04-08\">\\n           2021-04-08\\n          </time>\\n         </p>\\n        </div>\\n        <footer class=\"card-footer\">\\n         <a class=\"card-footer-item\" href=\"https://www.realpython.com\" target=\"_blank\">\\n          Learn\\n         </a>\\n         <a class=\"card-footer-item\" href=\"https://realpython.github.io/fake-jobs/jobs/cytogeneticist-43.html\" target=\"_blank\">\\n          Apply\\n         </a>\\n        </footer>\\n       </div>\\n      </div>\\n     </div>\\n     <div class=\"column is-half\">\\n      <div class=\"card\">\\n       <div class=\"card-content\">\\n        <div class=\"media\">\\n         <div class=\"media-left\">\\n          <figure class=\"image is-48x48\">\\n           <img alt=\"Real Python Logo\" src=\"https://files.realpython.com/media/real-python-logo-thumbnail.7f0db70c2ed2.jpg?__no_cf_polish=1\"/>\\n          </figure>\\n         </div>\\n         <div class=\"media-content\">\\n          <h2 class=\"title is-5\">\\n           Designer, multimedia\\n          </h2>\\n          <h3 class=\"subtitle is-6 company\">\\n           Pierce-Herrera\\n          </h3>\\n         </div>\\n        </div>\\n        <div class=\"content\">\\n         <p class=\"location\">\\n          South Timothyburgh, AP\\n         </p>\\n         <p class=\"is-small has-text-grey\">\\n          <time datetime=\"2021-04-08\">\\n           2021-04-08\\n          </time>\\n         </p>\\n        </div>\\n        <footer class=\"card-footer\">\\n         <a class=\"card-footer-item\" href=\"https://www.realpython.com\" target=\"_blank\">\\n          Learn\\n         </a>\\n         <a class=\"card-footer-item\" href=\"https://realpython.github.io/fake-jobs/jobs/designer-multimedia-44.html\" target=\"_blank\">\\n          Apply\\n         </a>\\n        </footer>\\n       </div>\\n      </div>\\n     </div>\\n     <div class=\"column is-half\">\\n      <div class=\"card\">\\n       <div class=\"card-content\">\\n        <div class=\"media\">\\n         <div class=\"media-left\">\\n          <figure class=\"image is-48x48\">\\n           <img alt=\"Real Python Logo\" src=\"https://files.realpython.com/media/real-python-logo-thumbnail.7f0db70c2ed2.jpg?__no_cf_polish=1\"/>\\n          </figure>\\n         </div>\\n         <div class=\"media-content\">\\n          <h2 class=\"title is-5\">\\n           Trade union research officer\\n          </h2>\\n          <h3 class=\"subtitle is-6 company\">\\n           Aguilar, Rivera and Quinn\\n          </h3>\\n         </div>\\n        </div>\\n        <div class=\"content\">\\n         <p class=\"location\">\\n          New Jimmyton, AE\\n         </p>\\n         <p class=\"is-small has-text-grey\">\\n          <time datetime=\"2021-04-08\">\\n           2021-04-08\\n          </time>\\n         </p>\\n        </div>\\n        <footer class=\"card-footer\">\\n         <a class=\"card-footer-item\" href=\"https://www.realpython.com\" target=\"_blank\">\\n          Learn\\n         </a>\\n         <a class=\"card-footer-item\" href=\"https://realpython.github.io/fake-jobs/jobs/trade-union-research-officer-45.html\" target=\"_blank\">\\n          Apply\\n         </a>\\n        </footer>\\n       </div>\\n      </div>\\n     </div>\\n     <div class=\"column is-half\">\\n      <div class=\"card\">\\n       <div class=\"card-content\">\\n        <div class=\"media\">\\n         <div class=\"media-left\">\\n          <figure class=\"image is-48x48\">\\n           <img alt=\"Real Python Logo\" src=\"https://files.realpython.com/media/real-python-logo-thumbnail.7f0db70c2ed2.jpg?__no_cf_polish=1\"/>\\n          </figure>\\n         </div>\\n         <div class=\"media-content\">\\n          <h2 class=\"title is-5\">\\n           Chemist, analytical\\n          </h2>\\n          <h3 class=\"subtitle is-6 company\">\\n           Lowe, Barnes and Thomas\\n          </h3>\\n         </div>\\n        </div>\\n        <div class=\"content\">\\n         <p class=\"location\">\\n          New Lucasbury, AP\\n         </p>\\n         <p class=\"is-small has-text-grey\">\\n          <time datetime=\"2021-04-08\">\\n           2021-04-08\\n          </time>\\n         </p>\\n        </div>\\n        <footer class=\"card-footer\">\\n         <a class=\"card-footer-item\" href=\"https://www.realpython.com\" target=\"_blank\">\\n          Learn\\n         </a>\\n         <a class=\"card-footer-item\" href=\"https://realpython.github.io/fake-jobs/jobs/chemist-analytical-46.html\" target=\"_blank\">\\n          Apply\\n         </a>\\n        </footer>\\n       </div>\\n      </div>\\n     </div>\\n     <div class=\"column is-half\">\\n      <div class=\"card\">\\n       <div class=\"card-content\">\\n        <div class=\"media\">\\n         <div class=\"media-left\">\\n          <figure class=\"image is-48x48\">\\n           <img alt=\"Real Python Logo\" src=\"https://files.realpython.com/media/real-python-logo-thumbnail.7f0db70c2ed2.jpg?__no_cf_polish=1\"/>\\n          </figure>\\n         </div>\\n         <div class=\"media-content\">\\n          <h2 class=\"title is-5\">\\n           Programmer, multimedia\\n          </h2>\\n          <h3 class=\"subtitle is-6 company\">\\n           Lewis, Gonzalez and Vasquez\\n          </h3>\\n         </div>\\n        </div>\\n        <div class=\"content\">\\n         <p class=\"location\">\\n          Port Cory, AE\\n         </p>\\n         <p class=\"is-small has-text-grey\">\\n          <time datetime=\"2021-04-08\">\\n           2021-04-08\\n          </time>\\n         </p>\\n        </div>\\n        <footer class=\"card-footer\">\\n         <a class=\"card-footer-item\" href=\"https://www.realpython.com\" target=\"_blank\">\\n          Learn\\n         </a>\\n         <a class=\"card-footer-item\" href=\"https://realpython.github.io/fake-jobs/jobs/programmer-multimedia-47.html\" target=\"_blank\">\\n          Apply\\n         </a>\\n        </footer>\\n       </div>\\n      </div>\\n     </div>\\n     <div class=\"column is-half\">\\n      <div class=\"card\">\\n       <div class=\"card-content\">\\n        <div class=\"media\">\\n         <div class=\"media-left\">\\n          <figure class=\"image is-48x48\">\\n           <img alt=\"Real Python Logo\" src=\"https://files.realpython.com/media/real-python-logo-thumbnail.7f0db70c2ed2.jpg?__no_cf_polish=1\"/>\\n          </figure>\\n         </div>\\n         <div class=\"media-content\">\\n          <h2 class=\"title is-5\">\\n           Engineer, broadcasting (operations)\\n          </h2>\\n          <h3 class=\"subtitle is-6 company\">\\n           Taylor PLC\\n          </h3>\\n         </div>\\n        </div>\\n        <div class=\"content\">\\n         <p class=\"location\">\\n          Gileston, AA\\n         </p>\\n         <p class=\"is-small has-text-grey\">\\n          <time datetime=\"2021-04-08\">\\n           2021-04-08\\n          </time>\\n         </p>\\n        </div>\\n        <footer class=\"card-footer\">\\n         <a class=\"card-footer-item\" href=\"https://www.realpython.com\" target=\"_blank\">\\n          Learn\\n         </a>\\n         <a class=\"card-footer-item\" href=\"https://realpython.github.io/fake-jobs/jobs/engineer-broadcasting-operations-48.html\" target=\"_blank\">\\n          Apply\\n         </a>\\n        </footer>\\n       </div>\\n      </div>\\n     </div>\\n     <div class=\"column is-half\">\\n      <div class=\"card\">\\n       <div class=\"card-content\">\\n        <div class=\"media\">\\n         <div class=\"media-left\">\\n          <figure class=\"image is-48x48\">\\n           <img alt=\"Real Python Logo\" src=\"https://files.realpython.com/media/real-python-logo-thumbnail.7f0db70c2ed2.jpg?__no_cf_polish=1\"/>\\n          </figure>\\n         </div>\\n         <div class=\"media-content\">\\n          <h2 class=\"title is-5\">\\n           Teacher, primary school\\n          </h2>\\n          <h3 class=\"subtitle is-6 company\">\\n           Oliver, Jones and Ramirez\\n          </h3>\\n         </div>\\n        </div>\\n        <div class=\"content\">\\n         <p class=\"location\">\\n          Cindyshire, AA\\n         </p>\\n         <p class=\"is-small has-text-grey\">\\n          <time datetime=\"2021-04-08\">\\n           2021-04-08\\n          </time>\\n         </p>\\n        </div>\\n        <footer class=\"card-footer\">\\n         <a class=\"card-footer-item\" href=\"https://www.realpython.com\" target=\"_blank\">\\n          Learn\\n         </a>\\n         <a class=\"card-footer-item\" href=\"https://realpython.github.io/fake-jobs/jobs/teacher-primary-school-49.html\" target=\"_blank\">\\n          Apply\\n         </a>\\n        </footer>\\n       </div>\\n      </div>\\n     </div>\\n     <div class=\"column is-half\">\\n      <div class=\"card\">\\n       <div class=\"card-content\">\\n        <div class=\"media\">\\n         <div class=\"media-left\">\\n          <figure class=\"image is-48x48\">\\n           <img alt=\"Real Python Logo\" src=\"https://files.realpython.com/media/real-python-logo-thumbnail.7f0db70c2ed2.jpg?__no_cf_polish=1\"/>\\n          </figure>\\n         </div>\\n         <div class=\"media-content\">\\n          <h2 class=\"title is-5\">\\n           Python Developer\\n          </h2>\\n          <h3 class=\"subtitle is-6 company\">\\n           Rivera and Sons\\n          </h3>\\n         </div>\\n        </div>\\n        <div class=\"content\">\\n         <p class=\"location\">\\n          East Michaelfort, AA\\n         </p>\\n         <p class=\"is-small has-text-grey\">\\n          <time datetime=\"2021-04-08\">\\n           2021-04-08\\n          </time>\\n         </p>\\n        </div>\\n        <footer class=\"card-footer\">\\n         <a class=\"card-footer-item\" href=\"https://www.realpython.com\" target=\"_blank\">\\n          Learn\\n         </a>\\n         <a class=\"card-footer-item\" href=\"https://realpython.github.io/fake-jobs/jobs/python-developer-50.html\" target=\"_blank\">\\n          Apply\\n         </a>\\n        </footer>\\n       </div>\\n      </div>\\n     </div>\\n     <div class=\"column is-half\">\\n      <div class=\"card\">\\n       <div class=\"card-content\">\\n        <div class=\"media\">\\n         <div class=\"media-left\">\\n          <figure class=\"image is-48x48\">\\n           <img alt=\"Real Python Logo\" src=\"https://files.realpython.com/media/real-python-logo-thumbnail.7f0db70c2ed2.jpg?__no_cf_polish=1\"/>\\n          </figure>\\n         </div>\\n         <div class=\"media-content\">\\n          <h2 class=\"title is-5\">\\n           Manufacturing systems engineer\\n          </h2>\\n          <h3 class=\"subtitle is-6 company\">\\n           Garcia PLC\\n          </h3>\\n         </div>\\n        </div>\\n        <div class=\"content\">\\n         <p class=\"location\">\\n          Joybury, AE\\n         </p>\\n         <p class=\"is-small has-text-grey\">\\n          <time datetime=\"2021-04-08\">\\n           2021-04-08\\n          </time>\\n         </p>\\n        </div>\\n        <footer class=\"card-footer\">\\n         <a class=\"card-footer-item\" href=\"https://www.realpython.com\" target=\"_blank\">\\n          Learn\\n         </a>\\n         <a class=\"card-footer-item\" href=\"https://realpython.github.io/fake-jobs/jobs/manufacturing-systems-engineer-51.html\" target=\"_blank\">\\n          Apply\\n         </a>\\n        </footer>\\n       </div>\\n      </div>\\n     </div>\\n     <div class=\"column is-half\">\\n      <div class=\"card\">\\n       <div class=\"card-content\">\\n        <div class=\"media\">\\n         <div class=\"media-left\">\\n          <figure class=\"image is-48x48\">\\n           <img alt=\"Real Python Logo\" src=\"https://files.realpython.com/media/real-python-logo-thumbnail.7f0db70c2ed2.jpg?__no_cf_polish=1\"/>\\n          </figure>\\n         </div>\\n         <div class=\"media-content\">\\n          <h2 class=\"title is-5\">\\n           Producer, television/film/video\\n          </h2>\\n          <h3 class=\"subtitle is-6 company\">\\n           Johnson, Wells and Kramer\\n          </h3>\\n         </div>\\n        </div>\\n        <div class=\"content\">\\n         <p class=\"location\">\\n          Emmatown, AE\\n         </p>\\n         <p class=\"is-small has-text-grey\">\\n          <time datetime=\"2021-04-08\">\\n           2021-04-08\\n          </time>\\n         </p>\\n        </div>\\n        <footer class=\"card-footer\">\\n         <a class=\"card-footer-item\" href=\"https://www.realpython.com\" target=\"_blank\">\\n          Learn\\n         </a>\\n         <a class=\"card-footer-item\" href=\"https://realpython.github.io/fake-jobs/jobs/producer-television-film-video-52.html\" target=\"_blank\">\\n          Apply\\n         </a>\\n        </footer>\\n       </div>\\n      </div>\\n     </div>\\n     <div class=\"column is-half\">\\n      <div class=\"card\">\\n       <div class=\"card-content\">\\n        <div class=\"media\">\\n         <div class=\"media-left\">\\n          <figure class=\"image is-48x48\">\\n           <img alt=\"Real Python Logo\" src=\"https://files.realpython.com/media/real-python-logo-thumbnail.7f0db70c2ed2.jpg?__no_cf_polish=1\"/>\\n          </figure>\\n         </div>\\n         <div class=\"media-content\">\\n          <h2 class=\"title is-5\">\\n           Scientist, forensic\\n          </h2>\\n          <h3 class=\"subtitle is-6 company\">\\n           Gonzalez LLC\\n          </h3>\\n         </div>\\n        </div>\\n        <div class=\"content\">\\n         <p class=\"location\">\\n          Colehaven, AP\\n         </p>\\n         <p class=\"is-small has-text-grey\">\\n          <time datetime=\"2021-04-08\">\\n           2021-04-08\\n          </time>\\n         </p>\\n        </div>\\n        <footer class=\"card-footer\">\\n         <a class=\"card-footer-item\" href=\"https://www.realpython.com\" target=\"_blank\">\\n          Learn\\n         </a>\\n         <a class=\"card-footer-item\" href=\"https://realpython.github.io/fake-jobs/jobs/scientist-forensic-53.html\" target=\"_blank\">\\n          Apply\\n         </a>\\n        </footer>\\n       </div>\\n      </div>\\n     </div>\\n     <div class=\"column is-half\">\\n      <div class=\"card\">\\n       <div class=\"card-content\">\\n        <div class=\"media\">\\n         <div class=\"media-left\">\\n          <figure class=\"image is-48x48\">\\n           <img alt=\"Real Python Logo\" src=\"https://files.realpython.com/media/real-python-logo-thumbnail.7f0db70c2ed2.jpg?__no_cf_polish=1\"/>\\n          </figure>\\n         </div>\\n         <div class=\"media-content\">\\n          <h2 class=\"title is-5\">\\n           Bonds trader\\n          </h2>\\n          <h3 class=\"subtitle is-6 company\">\\n           Morgan, White and Macdonald\\n          </h3>\\n         </div>\\n        </div>\\n        <div class=\"content\">\\n         <p class=\"location\">\\n          Port Coryton, AE\\n         </p>\\n         <p class=\"is-small has-text-grey\">\\n          <time datetime=\"2021-04-08\">\\n           2021-04-08\\n          </time>\\n         </p>\\n        </div>\\n        <footer class=\"card-footer\">\\n         <a class=\"card-footer-item\" href=\"https://www.realpython.com\" target=\"_blank\">\\n          Learn\\n         </a>\\n         <a class=\"card-footer-item\" href=\"https://realpython.github.io/fake-jobs/jobs/bonds-trader-54.html\" target=\"_blank\">\\n          Apply\\n         </a>\\n        </footer>\\n       </div>\\n      </div>\\n     </div>\\n     <div class=\"column is-half\">\\n      <div class=\"card\">\\n       <div class=\"card-content\">\\n        <div class=\"media\">\\n         <div class=\"media-left\">\\n          <figure class=\"image is-48x48\">\\n           <img alt=\"Real Python Logo\" src=\"https://files.realpython.com/media/real-python-logo-thumbnail.7f0db70c2ed2.jpg?__no_cf_polish=1\"/>\\n          </figure>\\n         </div>\\n         <div class=\"media-content\">\\n          <h2 class=\"title is-5\">\\n           Editorial assistant\\n          </h2>\\n          <h3 class=\"subtitle is-6 company\">\\n           Robinson-Fitzpatrick\\n          </h3>\\n         </div>\\n        </div>\\n        <div class=\"content\">\\n         <p class=\"location\">\\n          Amyborough, AA\\n         </p>\\n         <p class=\"is-small has-text-grey\">\\n          <time datetime=\"2021-04-08\">\\n           2021-04-08\\n          </time>\\n         </p>\\n        </div>\\n        <footer class=\"card-footer\">\\n         <a class=\"card-footer-item\" href=\"https://www.realpython.com\" target=\"_blank\">\\n          Learn\\n         </a>\\n         <a class=\"card-footer-item\" href=\"https://realpython.github.io/fake-jobs/jobs/editorial-assistant-55.html\" target=\"_blank\">\\n          Apply\\n         </a>\\n        </footer>\\n       </div>\\n      </div>\\n     </div>\\n     <div class=\"column is-half\">\\n      <div class=\"card\">\\n       <div class=\"card-content\">\\n        <div class=\"media\">\\n         <div class=\"media-left\">\\n          <figure class=\"image is-48x48\">\\n           <img alt=\"Real Python Logo\" src=\"https://files.realpython.com/media/real-python-logo-thumbnail.7f0db70c2ed2.jpg?__no_cf_polish=1\"/>\\n          </figure>\\n         </div>\\n         <div class=\"media-content\">\\n          <h2 class=\"title is-5\">\\n           Photographer\\n          </h2>\\n          <h3 class=\"subtitle is-6 company\">\\n           Waters, Wilson and Hoover\\n          </h3>\\n         </div>\\n        </div>\\n        <div class=\"content\">\\n         <p class=\"location\">\\n          Reynoldsville, AA\\n         </p>\\n         <p class=\"is-small has-text-grey\">\\n          <time datetime=\"2021-04-08\">\\n           2021-04-08\\n          </time>\\n         </p>\\n        </div>\\n        <footer class=\"card-footer\">\\n         <a class=\"card-footer-item\" href=\"https://www.realpython.com\" target=\"_blank\">\\n          Learn\\n         </a>\\n         <a class=\"card-footer-item\" href=\"https://realpython.github.io/fake-jobs/jobs/photographer-56.html\" target=\"_blank\">\\n          Apply\\n         </a>\\n        </footer>\\n       </div>\\n      </div>\\n     </div>\\n     <div class=\"column is-half\">\\n      <div class=\"card\">\\n       <div class=\"card-content\">\\n        <div class=\"media\">\\n         <div class=\"media-left\">\\n          <figure class=\"image is-48x48\">\\n           <img alt=\"Real Python Logo\" src=\"https://files.realpython.com/media/real-python-logo-thumbnail.7f0db70c2ed2.jpg?__no_cf_polish=1\"/>\\n          </figure>\\n         </div>\\n         <div class=\"media-content\">\\n          <h2 class=\"title is-5\">\\n           Retail banker\\n          </h2>\\n          <h3 class=\"subtitle is-6 company\">\\n           Hill LLC\\n          </h3>\\n         </div>\\n        </div>\\n        <div class=\"content\">\\n         <p class=\"location\">\\n          Port Billy, AP\\n         </p>\\n         <p class=\"is-small has-text-grey\">\\n          <time datetime=\"2021-04-08\">\\n           2021-04-08\\n          </time>\\n         </p>\\n        </div>\\n        <footer class=\"card-footer\">\\n         <a class=\"card-footer-item\" href=\"https://www.realpython.com\" target=\"_blank\">\\n          Learn\\n         </a>\\n         <a class=\"card-footer-item\" href=\"https://realpython.github.io/fake-jobs/jobs/retail-banker-57.html\" target=\"_blank\">\\n          Apply\\n         </a>\\n        </footer>\\n       </div>\\n      </div>\\n     </div>\\n     <div class=\"column is-half\">\\n      <div class=\"card\">\\n       <div class=\"card-content\">\\n        <div class=\"media\">\\n         <div class=\"media-left\">\\n          <figure class=\"image is-48x48\">\\n           <img alt=\"Real Python Logo\" src=\"https://files.realpython.com/media/real-python-logo-thumbnail.7f0db70c2ed2.jpg?__no_cf_polish=1\"/>\\n          </figure>\\n         </div>\\n         <div class=\"media-content\">\\n          <h2 class=\"title is-5\">\\n           Jewellery designer\\n          </h2>\\n          <h3 class=\"subtitle is-6 company\">\\n           Li-Gregory\\n          </h3>\\n         </div>\\n        </div>\\n        <div class=\"content\">\\n         <p class=\"location\">\\n          Adamburgh, AA\\n         </p>\\n         <p class=\"is-small has-text-grey\">\\n          <time datetime=\"2021-04-08\">\\n           2021-04-08\\n          </time>\\n         </p>\\n        </div>\\n        <footer class=\"card-footer\">\\n         <a class=\"card-footer-item\" href=\"https://www.realpython.com\" target=\"_blank\">\\n          Learn\\n         </a>\\n         <a class=\"card-footer-item\" href=\"https://realpython.github.io/fake-jobs/jobs/jewellery-designer-58.html\" target=\"_blank\">\\n          Apply\\n         </a>\\n        </footer>\\n       </div>\\n      </div>\\n     </div>\\n     <div class=\"column is-half\">\\n      <div class=\"card\">\\n       <div class=\"card-content\">\\n        <div class=\"media\">\\n         <div class=\"media-left\">\\n          <figure class=\"image is-48x48\">\\n           <img alt=\"Real Python Logo\" src=\"https://files.realpython.com/media/real-python-logo-thumbnail.7f0db70c2ed2.jpg?__no_cf_polish=1\"/>\\n          </figure>\\n         </div>\\n         <div class=\"media-content\">\\n          <h2 class=\"title is-5\">\\n           Ophthalmologist\\n          </h2>\\n          <h3 class=\"subtitle is-6 company\">\\n           Fisher, Ryan and Coleman\\n          </h3>\\n         </div>\\n        </div>\\n        <div class=\"content\">\\n         <p class=\"location\">\\n          Wilsonmouth, AA\\n         </p>\\n         <p class=\"is-small has-text-grey\">\\n          <time datetime=\"2021-04-08\">\\n           2021-04-08\\n          </time>\\n         </p>\\n        </div>\\n        <footer class=\"card-footer\">\\n         <a class=\"card-footer-item\" href=\"https://www.realpython.com\" target=\"_blank\">\\n          Learn\\n         </a>\\n         <a class=\"card-footer-item\" href=\"https://realpython.github.io/fake-jobs/jobs/ophthalmologist-59.html\" target=\"_blank\">\\n          Apply\\n         </a>\\n        </footer>\\n       </div>\\n      </div>\\n     </div>\\n     <div class=\"column is-half\">\\n      <div class=\"card\">\\n       <div class=\"card-content\">\\n        <div class=\"media\">\\n         <div class=\"media-left\">\\n          <figure class=\"image is-48x48\">\\n           <img alt=\"Real Python Logo\" src=\"https://files.realpython.com/media/real-python-logo-thumbnail.7f0db70c2ed2.jpg?__no_cf_polish=1\"/>\\n          </figure>\\n         </div>\\n         <div class=\"media-content\">\\n          <h2 class=\"title is-5\">\\n           Back-End Web Developer (Python, Django)\\n          </h2>\\n          <h3 class=\"subtitle is-6 company\">\\n           Stewart-Alexander\\n          </h3>\\n         </div>\\n        </div>\\n        <div class=\"content\">\\n         <p class=\"location\">\\n          South Kimberly, AA\\n         </p>\\n         <p class=\"is-small has-text-grey\">\\n          <time datetime=\"2021-04-08\">\\n           2021-04-08\\n          </time>\\n         </p>\\n        </div>\\n        <footer class=\"card-footer\">\\n         <a class=\"card-footer-item\" href=\"https://www.realpython.com\" target=\"_blank\">\\n          Learn\\n         </a>\\n         <a class=\"card-footer-item\" href=\"https://realpython.github.io/fake-jobs/jobs/back-end-web-developer-python-django-60.html\" target=\"_blank\">\\n          Apply\\n         </a>\\n        </footer>\\n       </div>\\n      </div>\\n     </div>\\n     <div class=\"column is-half\">\\n      <div class=\"card\">\\n       <div class=\"card-content\">\\n        <div class=\"media\">\\n         <div class=\"media-left\">\\n          <figure class=\"image is-48x48\">\\n           <img alt=\"Real Python Logo\" src=\"https://files.realpython.com/media/real-python-logo-thumbnail.7f0db70c2ed2.jpg?__no_cf_polish=1\"/>\\n          </figure>\\n         </div>\\n         <div class=\"media-content\">\\n          <h2 class=\"title is-5\">\\n           Licensed conveyancer\\n          </h2>\\n          <h3 class=\"subtitle is-6 company\">\\n           Abbott and Sons\\n          </h3>\\n         </div>\\n        </div>\\n        <div class=\"content\">\\n         <p class=\"location\">\\n          Benjaminland, AP\\n         </p>\\n         <p class=\"is-small has-text-grey\">\\n          <time datetime=\"2021-04-08\">\\n           2021-04-08\\n          </time>\\n         </p>\\n        </div>\\n        <footer class=\"card-footer\">\\n         <a class=\"card-footer-item\" href=\"https://www.realpython.com\" target=\"_blank\">\\n          Learn\\n         </a>\\n         <a class=\"card-footer-item\" href=\"https://realpython.github.io/fake-jobs/jobs/licensed-conveyancer-61.html\" target=\"_blank\">\\n          Apply\\n         </a>\\n        </footer>\\n       </div>\\n      </div>\\n     </div>\\n     <div class=\"column is-half\">\\n      <div class=\"card\">\\n       <div class=\"card-content\">\\n        <div class=\"media\">\\n         <div class=\"media-left\">\\n          <figure class=\"image is-48x48\">\\n           <img alt=\"Real Python Logo\" src=\"https://files.realpython.com/media/real-python-logo-thumbnail.7f0db70c2ed2.jpg?__no_cf_polish=1\"/>\\n          </figure>\\n         </div>\\n         <div class=\"media-content\">\\n          <h2 class=\"title is-5\">\\n           Futures trader\\n          </h2>\\n          <h3 class=\"subtitle is-6 company\">\\n           Bryant, Santana and Davenport\\n          </h3>\\n         </div>\\n        </div>\\n        <div class=\"content\">\\n         <p class=\"location\">\\n          Zacharyport, AA\\n         </p>\\n         <p class=\"is-small has-text-grey\">\\n          <time datetime=\"2021-04-08\">\\n           2021-04-08\\n          </time>\\n         </p>\\n        </div>\\n        <footer class=\"card-footer\">\\n         <a class=\"card-footer-item\" href=\"https://www.realpython.com\" target=\"_blank\">\\n          Learn\\n         </a>\\n         <a class=\"card-footer-item\" href=\"https://realpython.github.io/fake-jobs/jobs/futures-trader-62.html\" target=\"_blank\">\\n          Apply\\n         </a>\\n        </footer>\\n       </div>\\n      </div>\\n     </div>\\n     <div class=\"column is-half\">\\n      <div class=\"card\">\\n       <div class=\"card-content\">\\n        <div class=\"media\">\\n         <div class=\"media-left\">\\n          <figure class=\"image is-48x48\">\\n           <img alt=\"Real Python Logo\" src=\"https://files.realpython.com/media/real-python-logo-thumbnail.7f0db70c2ed2.jpg?__no_cf_polish=1\"/>\\n          </figure>\\n         </div>\\n         <div class=\"media-content\">\\n          <h2 class=\"title is-5\">\\n           Counselling psychologist\\n          </h2>\\n          <h3 class=\"subtitle is-6 company\">\\n           Smith PLC\\n          </h3>\\n         </div>\\n        </div>\\n        <div class=\"content\">\\n         <p class=\"location\">\\n          Port Devonville, AE\\n         </p>\\n         <p class=\"is-small has-text-grey\">\\n          <time datetime=\"2021-04-08\">\\n           2021-04-08\\n          </time>\\n         </p>\\n        </div>\\n        <footer class=\"card-footer\">\\n         <a class=\"card-footer-item\" href=\"https://www.realpython.com\" target=\"_blank\">\\n          Learn\\n         </a>\\n         <a class=\"card-footer-item\" href=\"https://realpython.github.io/fake-jobs/jobs/counselling-psychologist-63.html\" target=\"_blank\">\\n          Apply\\n         </a>\\n        </footer>\\n       </div>\\n      </div>\\n     </div>\\n     <div class=\"column is-half\">\\n      <div class=\"card\">\\n       <div class=\"card-content\">\\n        <div class=\"media\">\\n         <div class=\"media-left\">\\n          <figure class=\"image is-48x48\">\\n           <img alt=\"Real Python Logo\" src=\"https://files.realpython.com/media/real-python-logo-thumbnail.7f0db70c2ed2.jpg?__no_cf_polish=1\"/>\\n          </figure>\\n         </div>\\n         <div class=\"media-content\">\\n          <h2 class=\"title is-5\">\\n           Insurance underwriter\\n          </h2>\\n          <h3 class=\"subtitle is-6 company\">\\n           Patterson-Singh\\n          </h3>\\n         </div>\\n        </div>\\n        <div class=\"content\">\\n         <p class=\"location\">\\n          East Thomas, AE\\n         </p>\\n         <p class=\"is-small has-text-grey\">\\n          <time datetime=\"2021-04-08\">\\n           2021-04-08\\n          </time>\\n         </p>\\n        </div>\\n        <footer class=\"card-footer\">\\n         <a class=\"card-footer-item\" href=\"https://www.realpython.com\" target=\"_blank\">\\n          Learn\\n         </a>\\n         <a class=\"card-footer-item\" href=\"https://realpython.github.io/fake-jobs/jobs/insurance-underwriter-64.html\" target=\"_blank\">\\n          Apply\\n         </a>\\n        </footer>\\n       </div>\\n      </div>\\n     </div>\\n     <div class=\"column is-half\">\\n      <div class=\"card\">\\n       <div class=\"card-content\">\\n        <div class=\"media\">\\n         <div class=\"media-left\">\\n          <figure class=\"image is-48x48\">\\n           <img alt=\"Real Python Logo\" src=\"https://files.realpython.com/media/real-python-logo-thumbnail.7f0db70c2ed2.jpg?__no_cf_polish=1\"/>\\n          </figure>\\n         </div>\\n         <div class=\"media-content\">\\n          <h2 class=\"title is-5\">\\n           Engineer, automotive\\n          </h2>\\n          <h3 class=\"subtitle is-6 company\">\\n           Martinez-Berry\\n          </h3>\\n         </div>\\n        </div>\\n        <div class=\"content\">\\n         <p class=\"location\">\\n          New Jeffrey, AP\\n         </p>\\n         <p class=\"is-small has-text-grey\">\\n          <time datetime=\"2021-04-08\">\\n           2021-04-08\\n          </time>\\n         </p>\\n        </div>\\n        <footer class=\"card-footer\">\\n         <a class=\"card-footer-item\" href=\"https://www.realpython.com\" target=\"_blank\">\\n          Learn\\n         </a>\\n         <a class=\"card-footer-item\" href=\"https://realpython.github.io/fake-jobs/jobs/engineer-automotive-65.html\" target=\"_blank\">\\n          Apply\\n         </a>\\n        </footer>\\n       </div>\\n      </div>\\n     </div>\\n     <div class=\"column is-half\">\\n      <div class=\"card\">\\n       <div class=\"card-content\">\\n        <div class=\"media\">\\n         <div class=\"media-left\">\\n          <figure class=\"image is-48x48\">\\n           <img alt=\"Real Python Logo\" src=\"https://files.realpython.com/media/real-python-logo-thumbnail.7f0db70c2ed2.jpg?__no_cf_polish=1\"/>\\n          </figure>\\n         </div>\\n         <div class=\"media-content\">\\n          <h2 class=\"title is-5\">\\n           Producer, radio\\n          </h2>\\n          <h3 class=\"subtitle is-6 company\">\\n           May, Taylor and Fisher\\n          </h3>\\n         </div>\\n        </div>\\n        <div class=\"content\">\\n         <p class=\"location\">\\n          Davidside, AA\\n         </p>\\n         <p class=\"is-small has-text-grey\">\\n          <time datetime=\"2021-04-08\">\\n           2021-04-08\\n          </time>\\n         </p>\\n        </div>\\n        <footer class=\"card-footer\">\\n         <a class=\"card-footer-item\" href=\"https://www.realpython.com\" target=\"_blank\">\\n          Learn\\n         </a>\\n         <a class=\"card-footer-item\" href=\"https://realpython.github.io/fake-jobs/jobs/producer-radio-66.html\" target=\"_blank\">\\n          Apply\\n         </a>\\n        </footer>\\n       </div>\\n      </div>\\n     </div>\\n     <div class=\"column is-half\">\\n      <div class=\"card\">\\n       <div class=\"card-content\">\\n        <div class=\"media\">\\n         <div class=\"media-left\">\\n          <figure class=\"image is-48x48\">\\n           <img alt=\"Real Python Logo\" src=\"https://files.realpython.com/media/real-python-logo-thumbnail.7f0db70c2ed2.jpg?__no_cf_polish=1\"/>\\n          </figure>\\n         </div>\\n         <div class=\"media-content\">\\n          <h2 class=\"title is-5\">\\n           Dispensing optician\\n          </h2>\\n          <h3 class=\"subtitle is-6 company\">\\n           Bailey, Owen and Thompson\\n          </h3>\\n         </div>\\n        </div>\\n        <div class=\"content\">\\n         <p class=\"location\">\\n          Jamesville, AA\\n         </p>\\n         <p class=\"is-small has-text-grey\">\\n          <time datetime=\"2021-04-08\">\\n           2021-04-08\\n          </time>\\n         </p>\\n        </div>\\n        <footer class=\"card-footer\">\\n         <a class=\"card-footer-item\" href=\"https://www.realpython.com\" target=\"_blank\">\\n          Learn\\n         </a>\\n         <a class=\"card-footer-item\" href=\"https://realpython.github.io/fake-jobs/jobs/dispensing-optician-67.html\" target=\"_blank\">\\n          Apply\\n         </a>\\n        </footer>\\n       </div>\\n      </div>\\n     </div>\\n     <div class=\"column is-half\">\\n      <div class=\"card\">\\n       <div class=\"card-content\">\\n        <div class=\"media\">\\n         <div class=\"media-left\">\\n          <figure class=\"image is-48x48\">\\n           <img alt=\"Real Python Logo\" src=\"https://files.realpython.com/media/real-python-logo-thumbnail.7f0db70c2ed2.jpg?__no_cf_polish=1\"/>\\n          </figure>\\n         </div>\\n         <div class=\"media-content\">\\n          <h2 class=\"title is-5\">\\n           Designer, fashion/clothing\\n          </h2>\\n          <h3 class=\"subtitle is-6 company\">\\n           Vasquez Ltd\\n          </h3>\\n         </div>\\n        </div>\\n        <div class=\"content\">\\n         <p class=\"location\">\\n          New Kelly, AP\\n         </p>\\n         <p class=\"is-small has-text-grey\">\\n          <time datetime=\"2021-04-08\">\\n           2021-04-08\\n          </time>\\n         </p>\\n        </div>\\n        <footer class=\"card-footer\">\\n         <a class=\"card-footer-item\" href=\"https://www.realpython.com\" target=\"_blank\">\\n          Learn\\n         </a>\\n         <a class=\"card-footer-item\" href=\"https://realpython.github.io/fake-jobs/jobs/designer-fashion-clothing-68.html\" target=\"_blank\">\\n          Apply\\n         </a>\\n        </footer>\\n       </div>\\n      </div>\\n     </div>\\n     <div class=\"column is-half\">\\n      <div class=\"card\">\\n       <div class=\"card-content\">\\n        <div class=\"media\">\\n         <div class=\"media-left\">\\n          <figure class=\"image is-48x48\">\\n           <img alt=\"Real Python Logo\" src=\"https://files.realpython.com/media/real-python-logo-thumbnail.7f0db70c2ed2.jpg?__no_cf_polish=1\"/>\\n          </figure>\\n         </div>\\n         <div class=\"media-content\">\\n          <h2 class=\"title is-5\">\\n           Chartered loss adjuster\\n          </h2>\\n          <h3 class=\"subtitle is-6 company\">\\n           Leblanc LLC\\n          </h3>\\n         </div>\\n        </div>\\n        <div class=\"content\">\\n         <p class=\"location\">\\n          Lake Antonio, AA\\n         </p>\\n         <p class=\"is-small has-text-grey\">\\n          <time datetime=\"2021-04-08\">\\n           2021-04-08\\n          </time>\\n         </p>\\n        </div>\\n        <footer class=\"card-footer\">\\n         <a class=\"card-footer-item\" href=\"https://www.realpython.com\" target=\"_blank\">\\n          Learn\\n         </a>\\n         <a class=\"card-footer-item\" href=\"https://realpython.github.io/fake-jobs/jobs/chartered-loss-adjuster-69.html\" target=\"_blank\">\\n          Apply\\n         </a>\\n        </footer>\\n       </div>\\n      </div>\\n     </div>\\n     <div class=\"column is-half\">\\n      <div class=\"card\">\\n       <div class=\"card-content\">\\n        <div class=\"media\">\\n         <div class=\"media-left\">\\n          <figure class=\"image is-48x48\">\\n           <img alt=\"Real Python Logo\" src=\"https://files.realpython.com/media/real-python-logo-thumbnail.7f0db70c2ed2.jpg?__no_cf_polish=1\"/>\\n          </figure>\\n         </div>\\n         <div class=\"media-content\">\\n          <h2 class=\"title is-5\">\\n           Back-End Web Developer (Python, Django)\\n          </h2>\\n          <h3 class=\"subtitle is-6 company\">\\n           Jackson, Ali and Mckee\\n          </h3>\\n         </div>\\n        </div>\\n        <div class=\"content\">\\n         <p class=\"location\">\\n          New Elizabethside, AA\\n         </p>\\n         <p class=\"is-small has-text-grey\">\\n          <time datetime=\"2021-04-08\">\\n           2021-04-08\\n          </time>\\n         </p>\\n        </div>\\n        <footer class=\"card-footer\">\\n         <a class=\"card-footer-item\" href=\"https://www.realpython.com\" target=\"_blank\">\\n          Learn\\n         </a>\\n         <a class=\"card-footer-item\" href=\"https://realpython.github.io/fake-jobs/jobs/back-end-web-developer-python-django-70.html\" target=\"_blank\">\\n          Apply\\n         </a>\\n        </footer>\\n       </div>\\n      </div>\\n     </div>\\n     <div class=\"column is-half\">\\n      <div class=\"card\">\\n       <div class=\"card-content\">\\n        <div class=\"media\">\\n         <div class=\"media-left\">\\n          <figure class=\"image is-48x48\">\\n           <img alt=\"Real Python Logo\" src=\"https://files.realpython.com/media/real-python-logo-thumbnail.7f0db70c2ed2.jpg?__no_cf_polish=1\"/>\\n          </figure>\\n         </div>\\n         <div class=\"media-content\">\\n          <h2 class=\"title is-5\">\\n           Forest/woodland manager\\n          </h2>\\n          <h3 class=\"subtitle is-6 company\">\\n           Blankenship, Knight and Powell\\n          </h3>\\n         </div>\\n        </div>\\n        <div class=\"content\">\\n         <p class=\"location\">\\n          Millsbury, AE\\n         </p>\\n         <p class=\"is-small has-text-grey\">\\n          <time datetime=\"2021-04-08\">\\n           2021-04-08\\n          </time>\\n         </p>\\n        </div>\\n        <footer class=\"card-footer\">\\n         <a class=\"card-footer-item\" href=\"https://www.realpython.com\" target=\"_blank\">\\n          Learn\\n         </a>\\n         <a class=\"card-footer-item\" href=\"https://realpython.github.io/fake-jobs/jobs/forest-woodland-manager-71.html\" target=\"_blank\">\\n          Apply\\n         </a>\\n        </footer>\\n       </div>\\n      </div>\\n     </div>\\n     <div class=\"column is-half\">\\n      <div class=\"card\">\\n       <div class=\"card-content\">\\n        <div class=\"media\">\\n         <div class=\"media-left\">\\n          <figure class=\"image is-48x48\">\\n           <img alt=\"Real Python Logo\" src=\"https://files.realpython.com/media/real-python-logo-thumbnail.7f0db70c2ed2.jpg?__no_cf_polish=1\"/>\\n          </figure>\\n         </div>\\n         <div class=\"media-content\">\\n          <h2 class=\"title is-5\">\\n           Clinical cytogeneticist\\n          </h2>\\n          <h3 class=\"subtitle is-6 company\">\\n           Patton, Haynes and Jones\\n          </h3>\\n         </div>\\n        </div>\\n        <div class=\"content\">\\n         <p class=\"location\">\\n          Lloydton, AP\\n         </p>\\n         <p class=\"is-small has-text-grey\">\\n          <time datetime=\"2021-04-08\">\\n           2021-04-08\\n          </time>\\n         </p>\\n        </div>\\n        <footer class=\"card-footer\">\\n         <a class=\"card-footer-item\" href=\"https://www.realpython.com\" target=\"_blank\">\\n          Learn\\n         </a>\\n         <a class=\"card-footer-item\" href=\"https://realpython.github.io/fake-jobs/jobs/clinical-cytogeneticist-72.html\" target=\"_blank\">\\n          Apply\\n         </a>\\n        </footer>\\n       </div>\\n      </div>\\n     </div>\\n     <div class=\"column is-half\">\\n      <div class=\"card\">\\n       <div class=\"card-content\">\\n        <div class=\"media\">\\n         <div class=\"media-left\">\\n          <figure class=\"image is-48x48\">\\n           <img alt=\"Real Python Logo\" src=\"https://files.realpython.com/media/real-python-logo-thumbnail.7f0db70c2ed2.jpg?__no_cf_polish=1\"/>\\n          </figure>\\n         </div>\\n         <div class=\"media-content\">\\n          <h2 class=\"title is-5\">\\n           Print production planner\\n          </h2>\\n          <h3 class=\"subtitle is-6 company\">\\n           Wood Inc\\n          </h3>\\n         </div>\\n        </div>\\n        <div class=\"content\">\\n         <p class=\"location\">\\n          Port Jeremy, AA\\n         </p>\\n         <p class=\"is-small has-text-grey\">\\n          <time datetime=\"2021-04-08\">\\n           2021-04-08\\n          </time>\\n         </p>\\n        </div>\\n        <footer class=\"card-footer\">\\n         <a class=\"card-footer-item\" href=\"https://www.realpython.com\" target=\"_blank\">\\n          Learn\\n         </a>\\n         <a class=\"card-footer-item\" href=\"https://realpython.github.io/fake-jobs/jobs/print-production-planner-73.html\" target=\"_blank\">\\n          Apply\\n         </a>\\n        </footer>\\n       </div>\\n      </div>\\n     </div>\\n     <div class=\"column is-half\">\\n      <div class=\"card\">\\n       <div class=\"card-content\">\\n        <div class=\"media\">\\n         <div class=\"media-left\">\\n          <figure class=\"image is-48x48\">\\n           <img alt=\"Real Python Logo\" src=\"https://files.realpython.com/media/real-python-logo-thumbnail.7f0db70c2ed2.jpg?__no_cf_polish=1\"/>\\n          </figure>\\n         </div>\\n         <div class=\"media-content\">\\n          <h2 class=\"title is-5\">\\n           Systems developer\\n          </h2>\\n          <h3 class=\"subtitle is-6 company\">\\n           Collins Group\\n          </h3>\\n         </div>\\n        </div>\\n        <div class=\"content\">\\n         <p class=\"location\">\\n          New Elizabethtown, AA\\n         </p>\\n         <p class=\"is-small has-text-grey\">\\n          <time datetime=\"2021-04-08\">\\n           2021-04-08\\n          </time>\\n         </p>\\n        </div>\\n        <footer class=\"card-footer\">\\n         <a class=\"card-footer-item\" href=\"https://www.realpython.com\" target=\"_blank\">\\n          Learn\\n         </a>\\n         <a class=\"card-footer-item\" href=\"https://realpython.github.io/fake-jobs/jobs/systems-developer-74.html\" target=\"_blank\">\\n          Apply\\n         </a>\\n        </footer>\\n       </div>\\n      </div>\\n     </div>\\n     <div class=\"column is-half\">\\n      <div class=\"card\">\\n       <div class=\"card-content\">\\n        <div class=\"media\">\\n         <div class=\"media-left\">\\n          <figure class=\"image is-48x48\">\\n           <img alt=\"Real Python Logo\" src=\"https://files.realpython.com/media/real-python-logo-thumbnail.7f0db70c2ed2.jpg?__no_cf_polish=1\"/>\\n          </figure>\\n         </div>\\n         <div class=\"media-content\">\\n          <h2 class=\"title is-5\">\\n           Graphic designer\\n          </h2>\\n          <h3 class=\"subtitle is-6 company\">\\n           Flores-Nelson\\n          </h3>\\n         </div>\\n        </div>\\n        <div class=\"content\">\\n         <p class=\"location\">\\n          Charlesstad, AE\\n         </p>\\n         <p class=\"is-small has-text-grey\">\\n          <time datetime=\"2021-04-08\">\\n           2021-04-08\\n          </time>\\n         </p>\\n        </div>\\n        <footer class=\"card-footer\">\\n         <a class=\"card-footer-item\" href=\"https://www.realpython.com\" target=\"_blank\">\\n          Learn\\n         </a>\\n         <a class=\"card-footer-item\" href=\"https://realpython.github.io/fake-jobs/jobs/graphic-designer-75.html\" target=\"_blank\">\\n          Apply\\n         </a>\\n        </footer>\\n       </div>\\n      </div>\\n     </div>\\n     <div class=\"column is-half\">\\n      <div class=\"card\">\\n       <div class=\"card-content\">\\n        <div class=\"media\">\\n         <div class=\"media-left\">\\n          <figure class=\"image is-48x48\">\\n           <img alt=\"Real Python Logo\" src=\"https://files.realpython.com/media/real-python-logo-thumbnail.7f0db70c2ed2.jpg?__no_cf_polish=1\"/>\\n          </figure>\\n         </div>\\n         <div class=\"media-content\">\\n          <h2 class=\"title is-5\">\\n           Writer\\n          </h2>\\n          <h3 class=\"subtitle is-6 company\">\\n           Mitchell, Jones and Olson\\n          </h3>\\n         </div>\\n        </div>\\n        <div class=\"content\">\\n         <p class=\"location\">\\n          Josephbury, AE\\n         </p>\\n         <p class=\"is-small has-text-grey\">\\n          <time datetime=\"2021-04-08\">\\n           2021-04-08\\n          </time>\\n         </p>\\n        </div>\\n        <footer class=\"card-footer\">\\n         <a class=\"card-footer-item\" href=\"https://www.realpython.com\" target=\"_blank\">\\n          Learn\\n         </a>\\n         <a class=\"card-footer-item\" href=\"https://realpython.github.io/fake-jobs/jobs/writer-76.html\" target=\"_blank\">\\n          Apply\\n         </a>\\n        </footer>\\n       </div>\\n      </div>\\n     </div>\\n     <div class=\"column is-half\">\\n      <div class=\"card\">\\n       <div class=\"card-content\">\\n        <div class=\"media\">\\n         <div class=\"media-left\">\\n          <figure class=\"image is-48x48\">\\n           <img alt=\"Real Python Logo\" src=\"https://files.realpython.com/media/real-python-logo-thumbnail.7f0db70c2ed2.jpg?__no_cf_polish=1\"/>\\n          </figure>\\n         </div>\\n         <div class=\"media-content\">\\n          <h2 class=\"title is-5\">\\n           Field seismologist\\n          </h2>\\n          <h3 class=\"subtitle is-6 company\">\\n           Howard Group\\n          </h3>\\n         </div>\\n        </div>\\n        <div class=\"content\">\\n         <p class=\"location\">\\n          Seanfurt, AA\\n         </p>\\n         <p class=\"is-small has-text-grey\">\\n          <time datetime=\"2021-04-08\">\\n           2021-04-08\\n          </time>\\n         </p>\\n        </div>\\n        <footer class=\"card-footer\">\\n         <a class=\"card-footer-item\" href=\"https://www.realpython.com\" target=\"_blank\">\\n          Learn\\n         </a>\\n         <a class=\"card-footer-item\" href=\"https://realpython.github.io/fake-jobs/jobs/field-seismologist-77.html\" target=\"_blank\">\\n          Apply\\n         </a>\\n        </footer>\\n       </div>\\n      </div>\\n     </div>\\n     <div class=\"column is-half\">\\n      <div class=\"card\">\\n       <div class=\"card-content\">\\n        <div class=\"media\">\\n         <div class=\"media-left\">\\n          <figure class=\"image is-48x48\">\\n           <img alt=\"Real Python Logo\" src=\"https://files.realpython.com/media/real-python-logo-thumbnail.7f0db70c2ed2.jpg?__no_cf_polish=1\"/>\\n          </figure>\\n         </div>\\n         <div class=\"media-content\">\\n          <h2 class=\"title is-5\">\\n           Chief Strategy Officer\\n          </h2>\\n          <h3 class=\"subtitle is-6 company\">\\n           Kramer-Edwards\\n          </h3>\\n         </div>\\n        </div>\\n        <div class=\"content\">\\n         <p class=\"location\">\\n          Williambury, AA\\n         </p>\\n         <p class=\"is-small has-text-grey\">\\n          <time datetime=\"2021-04-08\">\\n           2021-04-08\\n          </time>\\n         </p>\\n        </div>\\n        <footer class=\"card-footer\">\\n         <a class=\"card-footer-item\" href=\"https://www.realpython.com\" target=\"_blank\">\\n          Learn\\n         </a>\\n         <a class=\"card-footer-item\" href=\"https://realpython.github.io/fake-jobs/jobs/chief-strategy-officer-78.html\" target=\"_blank\">\\n          Apply\\n         </a>\\n        </footer>\\n       </div>\\n      </div>\\n     </div>\\n     <div class=\"column is-half\">\\n      <div class=\"card\">\\n       <div class=\"card-content\">\\n        <div class=\"media\">\\n         <div class=\"media-left\">\\n          <figure class=\"image is-48x48\">\\n           <img alt=\"Real Python Logo\" src=\"https://files.realpython.com/media/real-python-logo-thumbnail.7f0db70c2ed2.jpg?__no_cf_polish=1\"/>\\n          </figure>\\n         </div>\\n         <div class=\"media-content\">\\n          <h2 class=\"title is-5\">\\n           Air cabin crew\\n          </h2>\\n          <h3 class=\"subtitle is-6 company\">\\n           Berry-Houston\\n          </h3>\\n         </div>\\n        </div>\\n        <div class=\"content\">\\n         <p class=\"location\">\\n          South Jorgeside, AP\\n         </p>\\n         <p class=\"is-small has-text-grey\">\\n          <time datetime=\"2021-04-08\">\\n           2021-04-08\\n          </time>\\n         </p>\\n        </div>\\n        <footer class=\"card-footer\">\\n         <a class=\"card-footer-item\" href=\"https://www.realpython.com\" target=\"_blank\">\\n          Learn\\n         </a>\\n         <a class=\"card-footer-item\" href=\"https://realpython.github.io/fake-jobs/jobs/air-cabin-crew-79.html\" target=\"_blank\">\\n          Apply\\n         </a>\\n        </footer>\\n       </div>\\n      </div>\\n     </div>\\n     <div class=\"column is-half\">\\n      <div class=\"card\">\\n       <div class=\"card-content\">\\n        <div class=\"media\">\\n         <div class=\"media-left\">\\n          <figure class=\"image is-48x48\">\\n           <img alt=\"Real Python Logo\" src=\"https://files.realpython.com/media/real-python-logo-thumbnail.7f0db70c2ed2.jpg?__no_cf_polish=1\"/>\\n          </figure>\\n         </div>\\n         <div class=\"media-content\">\\n          <h2 class=\"title is-5\">\\n           Python Programmer (Entry-Level)\\n          </h2>\\n          <h3 class=\"subtitle is-6 company\">\\n           Mathews Inc\\n          </h3>\\n         </div>\\n        </div>\\n        <div class=\"content\">\\n         <p class=\"location\">\\n          Robertborough, AP\\n         </p>\\n         <p class=\"is-small has-text-grey\">\\n          <time datetime=\"2021-04-08\">\\n           2021-04-08\\n          </time>\\n         </p>\\n        </div>\\n        <footer class=\"card-footer\">\\n         <a class=\"card-footer-item\" href=\"https://www.realpython.com\" target=\"_blank\">\\n          Learn\\n         </a>\\n         <a class=\"card-footer-item\" href=\"https://realpython.github.io/fake-jobs/jobs/python-programmer-entry-level-80.html\" target=\"_blank\">\\n          Apply\\n         </a>\\n        </footer>\\n       </div>\\n      </div>\\n     </div>\\n     <div class=\"column is-half\">\\n      <div class=\"card\">\\n       <div class=\"card-content\">\\n        <div class=\"media\">\\n         <div class=\"media-left\">\\n          <figure class=\"image is-48x48\">\\n           <img alt=\"Real Python Logo\" src=\"https://files.realpython.com/media/real-python-logo-thumbnail.7f0db70c2ed2.jpg?__no_cf_polish=1\"/>\\n          </figure>\\n         </div>\\n         <div class=\"media-content\">\\n          <h2 class=\"title is-5\">\\n           Warden/ranger\\n          </h2>\\n          <h3 class=\"subtitle is-6 company\">\\n           Riley-Johnson\\n          </h3>\\n         </div>\\n        </div>\\n        <div class=\"content\">\\n         <p class=\"location\">\\n          South Saratown, AP\\n         </p>\\n         <p class=\"is-small has-text-grey\">\\n          <time datetime=\"2021-04-08\">\\n           2021-04-08\\n          </time>\\n         </p>\\n        </div>\\n        <footer class=\"card-footer\">\\n         <a class=\"card-footer-item\" href=\"https://www.realpython.com\" target=\"_blank\">\\n          Learn\\n         </a>\\n         <a class=\"card-footer-item\" href=\"https://realpython.github.io/fake-jobs/jobs/warden-ranger-81.html\" target=\"_blank\">\\n          Apply\\n         </a>\\n        </footer>\\n       </div>\\n      </div>\\n     </div>\\n     <div class=\"column is-half\">\\n      <div class=\"card\">\\n       <div class=\"card-content\">\\n        <div class=\"media\">\\n         <div class=\"media-left\">\\n          <figure class=\"image is-48x48\">\\n           <img alt=\"Real Python Logo\" src=\"https://files.realpython.com/media/real-python-logo-thumbnail.7f0db70c2ed2.jpg?__no_cf_polish=1\"/>\\n          </figure>\\n         </div>\\n         <div class=\"media-content\">\\n          <h2 class=\"title is-5\">\\n           Sports therapist\\n          </h2>\\n          <h3 class=\"subtitle is-6 company\">\\n           Spencer and Sons\\n          </h3>\\n         </div>\\n        </div>\\n        <div class=\"content\">\\n         <p class=\"location\">\\n          Hullview, AA\\n         </p>\\n         <p class=\"is-small has-text-grey\">\\n          <time datetime=\"2021-04-08\">\\n           2021-04-08\\n          </time>\\n         </p>\\n        </div>\\n        <footer class=\"card-footer\">\\n         <a class=\"card-footer-item\" href=\"https://www.realpython.com\" target=\"_blank\">\\n          Learn\\n         </a>\\n         <a class=\"card-footer-item\" href=\"https://realpython.github.io/fake-jobs/jobs/sports-therapist-82.html\" target=\"_blank\">\\n          Apply\\n         </a>\\n        </footer>\\n       </div>\\n      </div>\\n     </div>\\n     <div class=\"column is-half\">\\n      <div class=\"card\">\\n       <div class=\"card-content\">\\n        <div class=\"media\">\\n         <div class=\"media-left\">\\n          <figure class=\"image is-48x48\">\\n           <img alt=\"Real Python Logo\" src=\"https://files.realpython.com/media/real-python-logo-thumbnail.7f0db70c2ed2.jpg?__no_cf_polish=1\"/>\\n          </figure>\\n         </div>\\n         <div class=\"media-content\">\\n          <h2 class=\"title is-5\">\\n           Arts development officer\\n          </h2>\\n          <h3 class=\"subtitle is-6 company\">\\n           Camacho-Sanchez\\n          </h3>\\n         </div>\\n        </div>\\n        <div class=\"content\">\\n         <p class=\"location\">\\n          Philipland, AP\\n         </p>\\n         <p class=\"is-small has-text-grey\">\\n          <time datetime=\"2021-04-08\">\\n           2021-04-08\\n          </time>\\n         </p>\\n        </div>\\n        <footer class=\"card-footer\">\\n         <a class=\"card-footer-item\" href=\"https://www.realpython.com\" target=\"_blank\">\\n          Learn\\n         </a>\\n         <a class=\"card-footer-item\" href=\"https://realpython.github.io/fake-jobs/jobs/arts-development-officer-83.html\" target=\"_blank\">\\n          Apply\\n         </a>\\n        </footer>\\n       </div>\\n      </div>\\n     </div>\\n     <div class=\"column is-half\">\\n      <div class=\"card\">\\n       <div class=\"card-content\">\\n        <div class=\"media\">\\n         <div class=\"media-left\">\\n          <figure class=\"image is-48x48\">\\n           <img alt=\"Real Python Logo\" src=\"https://files.realpython.com/media/real-python-logo-thumbnail.7f0db70c2ed2.jpg?__no_cf_polish=1\"/>\\n          </figure>\\n         </div>\\n         <div class=\"media-content\">\\n          <h2 class=\"title is-5\">\\n           Printmaker\\n          </h2>\\n          <h3 class=\"subtitle is-6 company\">\\n           Oliver and Sons\\n          </h3>\\n         </div>\\n        </div>\\n        <div class=\"content\">\\n         <p class=\"location\">\\n          North Patty, AE\\n         </p>\\n         <p class=\"is-small has-text-grey\">\\n          <time datetime=\"2021-04-08\">\\n           2021-04-08\\n          </time>\\n         </p>\\n        </div>\\n        <footer class=\"card-footer\">\\n         <a class=\"card-footer-item\" href=\"https://www.realpython.com\" target=\"_blank\">\\n          Learn\\n         </a>\\n         <a class=\"card-footer-item\" href=\"https://realpython.github.io/fake-jobs/jobs/printmaker-84.html\" target=\"_blank\">\\n          Apply\\n         </a>\\n        </footer>\\n       </div>\\n      </div>\\n     </div>\\n     <div class=\"column is-half\">\\n      <div class=\"card\">\\n       <div class=\"card-content\">\\n        <div class=\"media\">\\n         <div class=\"media-left\">\\n          <figure class=\"image is-48x48\">\\n           <img alt=\"Real Python Logo\" src=\"https://files.realpython.com/media/real-python-logo-thumbnail.7f0db70c2ed2.jpg?__no_cf_polish=1\"/>\\n          </figure>\\n         </div>\\n         <div class=\"media-content\">\\n          <h2 class=\"title is-5\">\\n           Health and safety adviser\\n          </h2>\\n          <h3 class=\"subtitle is-6 company\">\\n           Eaton PLC\\n          </h3>\\n         </div>\\n        </div>\\n        <div class=\"content\">\\n         <p class=\"location\">\\n          North Stephen, AE\\n         </p>\\n         <p class=\"is-small has-text-grey\">\\n          <time datetime=\"2021-04-08\">\\n           2021-04-08\\n          </time>\\n         </p>\\n        </div>\\n        <footer class=\"card-footer\">\\n         <a class=\"card-footer-item\" href=\"https://www.realpython.com\" target=\"_blank\">\\n          Learn\\n         </a>\\n         <a class=\"card-footer-item\" href=\"https://realpython.github.io/fake-jobs/jobs/health-and-safety-adviser-85.html\" target=\"_blank\">\\n          Apply\\n         </a>\\n        </footer>\\n       </div>\\n      </div>\\n     </div>\\n     <div class=\"column is-half\">\\n      <div class=\"card\">\\n       <div class=\"card-content\">\\n        <div class=\"media\">\\n         <div class=\"media-left\">\\n          <figure class=\"image is-48x48\">\\n           <img alt=\"Real Python Logo\" src=\"https://files.realpython.com/media/real-python-logo-thumbnail.7f0db70c2ed2.jpg?__no_cf_polish=1\"/>\\n          </figure>\\n         </div>\\n         <div class=\"media-content\">\\n          <h2 class=\"title is-5\">\\n           Manufacturing systems engineer\\n          </h2>\\n          <h3 class=\"subtitle is-6 company\">\\n           Stanley-Frederick\\n          </h3>\\n         </div>\\n        </div>\\n        <div class=\"content\">\\n         <p class=\"location\">\\n          Stevensland, AP\\n         </p>\\n         <p class=\"is-small has-text-grey\">\\n          <time datetime=\"2021-04-08\">\\n           2021-04-08\\n          </time>\\n         </p>\\n        </div>\\n        <footer class=\"card-footer\">\\n         <a class=\"card-footer-item\" href=\"https://www.realpython.com\" target=\"_blank\">\\n          Learn\\n         </a>\\n         <a class=\"card-footer-item\" href=\"https://realpython.github.io/fake-jobs/jobs/manufacturing-systems-engineer-86.html\" target=\"_blank\">\\n          Apply\\n         </a>\\n        </footer>\\n       </div>\\n      </div>\\n     </div>\\n     <div class=\"column is-half\">\\n      <div class=\"card\">\\n       <div class=\"card-content\">\\n        <div class=\"media\">\\n         <div class=\"media-left\">\\n          <figure class=\"image is-48x48\">\\n           <img alt=\"Real Python Logo\" src=\"https://files.realpython.com/media/real-python-logo-thumbnail.7f0db70c2ed2.jpg?__no_cf_polish=1\"/>\\n          </figure>\\n         </div>\\n         <div class=\"media-content\">\\n          <h2 class=\"title is-5\">\\n           Programmer, applications\\n          </h2>\\n          <h3 class=\"subtitle is-6 company\">\\n           Bradley LLC\\n          </h3>\\n         </div>\\n        </div>\\n        <div class=\"content\">\\n         <p class=\"location\">\\n          Reyesstad, AE\\n         </p>\\n         <p class=\"is-small has-text-grey\">\\n          <time datetime=\"2021-04-08\">\\n           2021-04-08\\n          </time>\\n         </p>\\n        </div>\\n        <footer class=\"card-footer\">\\n         <a class=\"card-footer-item\" href=\"https://www.realpython.com\" target=\"_blank\">\\n          Learn\\n         </a>\\n         <a class=\"card-footer-item\" href=\"https://realpython.github.io/fake-jobs/jobs/programmer-applications-87.html\" target=\"_blank\">\\n          Apply\\n         </a>\\n        </footer>\\n       </div>\\n      </div>\\n     </div>\\n     <div class=\"column is-half\">\\n      <div class=\"card\">\\n       <div class=\"card-content\">\\n        <div class=\"media\">\\n         <div class=\"media-left\">\\n          <figure class=\"image is-48x48\">\\n           <img alt=\"Real Python Logo\" src=\"https://files.realpython.com/media/real-python-logo-thumbnail.7f0db70c2ed2.jpg?__no_cf_polish=1\"/>\\n          </figure>\\n         </div>\\n         <div class=\"media-content\">\\n          <h2 class=\"title is-5\">\\n           Medical physicist\\n          </h2>\\n          <h3 class=\"subtitle is-6 company\">\\n           Parker, Goodwin and Zavala\\n          </h3>\\n         </div>\\n        </div>\\n        <div class=\"content\">\\n         <p class=\"location\">\\n          Bellberg, AP\\n         </p>\\n         <p class=\"is-small has-text-grey\">\\n          <time datetime=\"2021-04-08\">\\n           2021-04-08\\n          </time>\\n         </p>\\n        </div>\\n        <footer class=\"card-footer\">\\n         <a class=\"card-footer-item\" href=\"https://www.realpython.com\" target=\"_blank\">\\n          Learn\\n         </a>\\n         <a class=\"card-footer-item\" href=\"https://realpython.github.io/fake-jobs/jobs/medical-physicist-88.html\" target=\"_blank\">\\n          Apply\\n         </a>\\n        </footer>\\n       </div>\\n      </div>\\n     </div>\\n     <div class=\"column is-half\">\\n      <div class=\"card\">\\n       <div class=\"card-content\">\\n        <div class=\"media\">\\n         <div class=\"media-left\">\\n          <figure class=\"image is-48x48\">\\n           <img alt=\"Real Python Logo\" src=\"https://files.realpython.com/media/real-python-logo-thumbnail.7f0db70c2ed2.jpg?__no_cf_polish=1\"/>\\n          </figure>\\n         </div>\\n         <div class=\"media-content\">\\n          <h2 class=\"title is-5\">\\n           Media planner\\n          </h2>\\n          <h3 class=\"subtitle is-6 company\">\\n           Kim-Miles\\n          </h3>\\n         </div>\\n        </div>\\n        <div class=\"content\">\\n         <p class=\"location\">\\n          North Johnland, AE\\n         </p>\\n         <p class=\"is-small has-text-grey\">\\n          <time datetime=\"2021-04-08\">\\n           2021-04-08\\n          </time>\\n         </p>\\n        </div>\\n        <footer class=\"card-footer\">\\n         <a class=\"card-footer-item\" href=\"https://www.realpython.com\" target=\"_blank\">\\n          Learn\\n         </a>\\n         <a class=\"card-footer-item\" href=\"https://realpython.github.io/fake-jobs/jobs/media-planner-89.html\" target=\"_blank\">\\n          Apply\\n         </a>\\n        </footer>\\n       </div>\\n      </div>\\n     </div>\\n     <div class=\"column is-half\">\\n      <div class=\"card\">\\n       <div class=\"card-content\">\\n        <div class=\"media\">\\n         <div class=\"media-left\">\\n          <figure class=\"image is-48x48\">\\n           <img alt=\"Real Python Logo\" src=\"https://files.realpython.com/media/real-python-logo-thumbnail.7f0db70c2ed2.jpg?__no_cf_polish=1\"/>\\n          </figure>\\n         </div>\\n         <div class=\"media-content\">\\n          <h2 class=\"title is-5\">\\n           Software Developer (Python)\\n          </h2>\\n          <h3 class=\"subtitle is-6 company\">\\n           Moreno-Rodriguez\\n          </h3>\\n         </div>\\n        </div>\\n        <div class=\"content\">\\n         <p class=\"location\">\\n          Martinezburgh, AE\\n         </p>\\n         <p class=\"is-small has-text-grey\">\\n          <time datetime=\"2021-04-08\">\\n           2021-04-08\\n          </time>\\n         </p>\\n        </div>\\n        <footer class=\"card-footer\">\\n         <a class=\"card-footer-item\" href=\"https://www.realpython.com\" target=\"_blank\">\\n          Learn\\n         </a>\\n         <a class=\"card-footer-item\" href=\"https://realpython.github.io/fake-jobs/jobs/software-developer-python-90.html\" target=\"_blank\">\\n          Apply\\n         </a>\\n        </footer>\\n       </div>\\n      </div>\\n     </div>\\n     <div class=\"column is-half\">\\n      <div class=\"card\">\\n       <div class=\"card-content\">\\n        <div class=\"media\">\\n         <div class=\"media-left\">\\n          <figure class=\"image is-48x48\">\\n           <img alt=\"Real Python Logo\" src=\"https://files.realpython.com/media/real-python-logo-thumbnail.7f0db70c2ed2.jpg?__no_cf_polish=1\"/>\\n          </figure>\\n         </div>\\n         <div class=\"media-content\">\\n          <h2 class=\"title is-5\">\\n           Surveyor, land/geomatics\\n          </h2>\\n          <h3 class=\"subtitle is-6 company\">\\n           Brown-Ortiz\\n          </h3>\\n         </div>\\n        </div>\\n        <div class=\"content\">\\n         <p class=\"location\">\\n          Joshuatown, AE\\n         </p>\\n         <p class=\"is-small has-text-grey\">\\n          <time datetime=\"2021-04-08\">\\n           2021-04-08\\n          </time>\\n         </p>\\n        </div>\\n        <footer class=\"card-footer\">\\n         <a class=\"card-footer-item\" href=\"https://www.realpython.com\" target=\"_blank\">\\n          Learn\\n         </a>\\n         <a class=\"card-footer-item\" href=\"https://realpython.github.io/fake-jobs/jobs/surveyor-land-geomatics-91.html\" target=\"_blank\">\\n          Apply\\n         </a>\\n        </footer>\\n       </div>\\n      </div>\\n     </div>\\n     <div class=\"column is-half\">\\n      <div class=\"card\">\\n       <div class=\"card-content\">\\n        <div class=\"media\">\\n         <div class=\"media-left\">\\n          <figure class=\"image is-48x48\">\\n           <img alt=\"Real Python Logo\" src=\"https://files.realpython.com/media/real-python-logo-thumbnail.7f0db70c2ed2.jpg?__no_cf_polish=1\"/>\\n          </figure>\\n         </div>\\n         <div class=\"media-content\">\\n          <h2 class=\"title is-5\">\\n           Legal executive\\n          </h2>\\n          <h3 class=\"subtitle is-6 company\">\\n           Hartman PLC\\n          </h3>\\n         </div>\\n        </div>\\n        <div class=\"content\">\\n         <p class=\"location\">\\n          West Ericstad, AA\\n         </p>\\n         <p class=\"is-small has-text-grey\">\\n          <time datetime=\"2021-04-08\">\\n           2021-04-08\\n          </time>\\n         </p>\\n        </div>\\n        <footer class=\"card-footer\">\\n         <a class=\"card-footer-item\" href=\"https://www.realpython.com\" target=\"_blank\">\\n          Learn\\n         </a>\\n         <a class=\"card-footer-item\" href=\"https://realpython.github.io/fake-jobs/jobs/legal-executive-92.html\" target=\"_blank\">\\n          Apply\\n         </a>\\n        </footer>\\n       </div>\\n      </div>\\n     </div>\\n     <div class=\"column is-half\">\\n      <div class=\"card\">\\n       <div class=\"card-content\">\\n        <div class=\"media\">\\n         <div class=\"media-left\">\\n          <figure class=\"image is-48x48\">\\n           <img alt=\"Real Python Logo\" src=\"https://files.realpython.com/media/real-python-logo-thumbnail.7f0db70c2ed2.jpg?__no_cf_polish=1\"/>\\n          </figure>\\n         </div>\\n         <div class=\"media-content\">\\n          <h2 class=\"title is-5\">\\n           Librarian, academic\\n          </h2>\\n          <h3 class=\"subtitle is-6 company\">\\n           Brooks Inc\\n          </h3>\\n         </div>\\n        </div>\\n        <div class=\"content\">\\n         <p class=\"location\">\\n          Tuckertown, AE\\n         </p>\\n         <p class=\"is-small has-text-grey\">\\n          <time datetime=\"2021-04-08\">\\n           2021-04-08\\n          </time>\\n         </p>\\n        </div>\\n        <footer class=\"card-footer\">\\n         <a class=\"card-footer-item\" href=\"https://www.realpython.com\" target=\"_blank\">\\n          Learn\\n         </a>\\n         <a class=\"card-footer-item\" href=\"https://realpython.github.io/fake-jobs/jobs/librarian-academic-93.html\" target=\"_blank\">\\n          Apply\\n         </a>\\n        </footer>\\n       </div>\\n      </div>\\n     </div>\\n     <div class=\"column is-half\">\\n      <div class=\"card\">\\n       <div class=\"card-content\">\\n        <div class=\"media\">\\n         <div class=\"media-left\">\\n          <figure class=\"image is-48x48\">\\n           <img alt=\"Real Python Logo\" src=\"https://files.realpython.com/media/real-python-logo-thumbnail.7f0db70c2ed2.jpg?__no_cf_polish=1\"/>\\n          </figure>\\n         </div>\\n         <div class=\"media-content\">\\n          <h2 class=\"title is-5\">\\n           Barrister\\n          </h2>\\n          <h3 class=\"subtitle is-6 company\">\\n           Washington-Castillo\\n          </h3>\\n         </div>\\n        </div>\\n        <div class=\"content\">\\n         <p class=\"location\">\\n          Perezton, AE\\n         </p>\\n         <p class=\"is-small has-text-grey\">\\n          <time datetime=\"2021-04-08\">\\n           2021-04-08\\n          </time>\\n         </p>\\n        </div>\\n        <footer class=\"card-footer\">\\n         <a class=\"card-footer-item\" href=\"https://www.realpython.com\" target=\"_blank\">\\n          Learn\\n         </a>\\n         <a class=\"card-footer-item\" href=\"https://realpython.github.io/fake-jobs/jobs/barrister-94.html\" target=\"_blank\">\\n          Apply\\n         </a>\\n        </footer>\\n       </div>\\n      </div>\\n     </div>\\n     <div class=\"column is-half\">\\n      <div class=\"card\">\\n       <div class=\"card-content\">\\n        <div class=\"media\">\\n         <div class=\"media-left\">\\n          <figure class=\"image is-48x48\">\\n           <img alt=\"Real Python Logo\" src=\"https://files.realpython.com/media/real-python-logo-thumbnail.7f0db70c2ed2.jpg?__no_cf_polish=1\"/>\\n          </figure>\\n         </div>\\n         <div class=\"media-content\">\\n          <h2 class=\"title is-5\">\\n           Museum/gallery exhibitions officer\\n          </h2>\\n          <h3 class=\"subtitle is-6 company\">\\n           Nguyen, Yoder and Petty\\n          </h3>\\n         </div>\\n        </div>\\n        <div class=\"content\">\\n         <p class=\"location\">\\n          Lake Abigail, AE\\n         </p>\\n         <p class=\"is-small has-text-grey\">\\n          <time datetime=\"2021-04-08\">\\n           2021-04-08\\n          </time>\\n         </p>\\n        </div>\\n        <footer class=\"card-footer\">\\n         <a class=\"card-footer-item\" href=\"https://www.realpython.com\" target=\"_blank\">\\n          Learn\\n         </a>\\n         <a class=\"card-footer-item\" href=\"https://realpython.github.io/fake-jobs/jobs/museum-gallery-exhibitions-officer-95.html\" target=\"_blank\">\\n          Apply\\n         </a>\\n        </footer>\\n       </div>\\n      </div>\\n     </div>\\n     <div class=\"column is-half\">\\n      <div class=\"card\">\\n       <div class=\"card-content\">\\n        <div class=\"media\">\\n         <div class=\"media-left\">\\n          <figure class=\"image is-48x48\">\\n           <img alt=\"Real Python Logo\" src=\"https://files.realpython.com/media/real-python-logo-thumbnail.7f0db70c2ed2.jpg?__no_cf_polish=1\"/>\\n          </figure>\\n         </div>\\n         <div class=\"media-content\">\\n          <h2 class=\"title is-5\">\\n           Radiographer, diagnostic\\n          </h2>\\n          <h3 class=\"subtitle is-6 company\">\\n           Holder LLC\\n          </h3>\\n         </div>\\n        </div>\\n        <div class=\"content\">\\n         <p class=\"location\">\\n          Jacobshire, AP\\n         </p>\\n         <p class=\"is-small has-text-grey\">\\n          <time datetime=\"2021-04-08\">\\n           2021-04-08\\n          </time>\\n         </p>\\n        </div>\\n        <footer class=\"card-footer\">\\n         <a class=\"card-footer-item\" href=\"https://www.realpython.com\" target=\"_blank\">\\n          Learn\\n         </a>\\n         <a class=\"card-footer-item\" href=\"https://realpython.github.io/fake-jobs/jobs/radiographer-diagnostic-96.html\" target=\"_blank\">\\n          Apply\\n         </a>\\n        </footer>\\n       </div>\\n      </div>\\n     </div>\\n     <div class=\"column is-half\">\\n      <div class=\"card\">\\n       <div class=\"card-content\">\\n        <div class=\"media\">\\n         <div class=\"media-left\">\\n          <figure class=\"image is-48x48\">\\n           <img alt=\"Real Python Logo\" src=\"https://files.realpython.com/media/real-python-logo-thumbnail.7f0db70c2ed2.jpg?__no_cf_polish=1\"/>\\n          </figure>\\n         </div>\\n         <div class=\"media-content\">\\n          <h2 class=\"title is-5\">\\n           Database administrator\\n          </h2>\\n          <h3 class=\"subtitle is-6 company\">\\n           Yates-Ferguson\\n          </h3>\\n         </div>\\n        </div>\\n        <div class=\"content\">\\n         <p class=\"location\">\\n          Port Susan, AE\\n         </p>\\n         <p class=\"is-small has-text-grey\">\\n          <time datetime=\"2021-04-08\">\\n           2021-04-08\\n          </time>\\n         </p>\\n        </div>\\n        <footer class=\"card-footer\">\\n         <a class=\"card-footer-item\" href=\"https://www.realpython.com\" target=\"_blank\">\\n          Learn\\n         </a>\\n         <a class=\"card-footer-item\" href=\"https://realpython.github.io/fake-jobs/jobs/database-administrator-97.html\" target=\"_blank\">\\n          Apply\\n         </a>\\n        </footer>\\n       </div>\\n      </div>\\n     </div>\\n     <div class=\"column is-half\">\\n      <div class=\"card\">\\n       <div class=\"card-content\">\\n        <div class=\"media\">\\n         <div class=\"media-left\">\\n          <figure class=\"image is-48x48\">\\n           <img alt=\"Real Python Logo\" src=\"https://files.realpython.com/media/real-python-logo-thumbnail.7f0db70c2ed2.jpg?__no_cf_polish=1\"/>\\n          </figure>\\n         </div>\\n         <div class=\"media-content\">\\n          <h2 class=\"title is-5\">\\n           Furniture designer\\n          </h2>\\n          <h3 class=\"subtitle is-6 company\">\\n           Ortega-Lawrence\\n          </h3>\\n         </div>\\n        </div>\\n        <div class=\"content\">\\n         <p class=\"location\">\\n          North Tiffany, AA\\n         </p>\\n         <p class=\"is-small has-text-grey\">\\n          <time datetime=\"2021-04-08\">\\n           2021-04-08\\n          </time>\\n         </p>\\n        </div>\\n        <footer class=\"card-footer\">\\n         <a class=\"card-footer-item\" href=\"https://www.realpython.com\" target=\"_blank\">\\n          Learn\\n         </a>\\n         <a class=\"card-footer-item\" href=\"https://realpython.github.io/fake-jobs/jobs/furniture-designer-98.html\" target=\"_blank\">\\n          Apply\\n         </a>\\n        </footer>\\n       </div>\\n      </div>\\n     </div>\\n     <div class=\"column is-half\">\\n      <div class=\"card\">\\n       <div class=\"card-content\">\\n        <div class=\"media\">\\n         <div class=\"media-left\">\\n          <figure class=\"image is-48x48\">\\n           <img alt=\"Real Python Logo\" src=\"https://files.realpython.com/media/real-python-logo-thumbnail.7f0db70c2ed2.jpg?__no_cf_polish=1\"/>\\n          </figure>\\n         </div>\\n         <div class=\"media-content\">\\n          <h2 class=\"title is-5\">\\n           Ship broker\\n          </h2>\\n          <h3 class=\"subtitle is-6 company\">\\n           Fuentes, Walls and Castro\\n          </h3>\\n         </div>\\n        </div>\\n        <div class=\"content\">\\n         <p class=\"location\">\\n          Michelleville, AP\\n         </p>\\n         <p class=\"is-small has-text-grey\">\\n          <time datetime=\"2021-04-08\">\\n           2021-04-08\\n          </time>\\n         </p>\\n        </div>\\n        <footer class=\"card-footer\">\\n         <a class=\"card-footer-item\" href=\"https://www.realpython.com\" target=\"_blank\">\\n          Learn\\n         </a>\\n         <a class=\"card-footer-item\" href=\"https://realpython.github.io/fake-jobs/jobs/ship-broker-99.html\" target=\"_blank\">\\n          Apply\\n         </a>\\n        </footer>\\n       </div>\\n      </div>\\n     </div>\\n    </div>\\n   </div>\\n  </section>\\n </body>\\n</html>\\n'"
      ]
     },
     "execution_count": 3,
     "metadata": {},
     "output_type": "execute_result"
    }
   ],
   "source": [
    "soup.prettify()"
   ]
  },
  {
   "cell_type": "markdown",
   "id": "0427f7a5",
   "metadata": {},
   "source": [
    "## a) Use the .find method to find the tag containing the first job title (\"Senior Python Developer\"). Hint: can you find a tag type and/or a class that could be helpful for extracting this information? Extract the text from this title.  "
   ]
  },
  {
   "cell_type": "code",
   "execution_count": 4,
   "id": "f8d831d1",
   "metadata": {},
   "outputs": [
    {
     "data": {
      "text/plain": [
       "'Senior Python Developer'"
      ]
     },
     "execution_count": 4,
     "metadata": {},
     "output_type": "execute_result"
    }
   ],
   "source": [
    "soup.find('h2').text"
   ]
  },
  {
   "cell_type": "markdown",
   "id": "923585c9",
   "metadata": {},
   "source": [
    "## b) Get whole list of jobs"
   ]
  },
  {
   "cell_type": "code",
   "execution_count": 5,
   "id": "d3099e71",
   "metadata": {},
   "outputs": [],
   "source": [
    "job_titles_init = soup.findAll('h2')"
   ]
  },
  {
   "cell_type": "markdown",
   "id": "35f47f2b",
   "metadata": {},
   "source": [
    "## c)  Get lists for companies, locations, and dates as well and turn to lists as only text."
   ]
  },
  {
   "cell_type": "code",
   "execution_count": 6,
   "id": "6cb395c9",
   "metadata": {},
   "outputs": [
    {
     "data": {
      "text/plain": [
       "100"
      ]
     },
     "execution_count": 6,
     "metadata": {},
     "output_type": "execute_result"
    }
   ],
   "source": [
    "\n",
    "companies_init = soup.findAll('h3')\n",
    "new_locations_init = soup.findAll('p', attrs = {'class' : 'location'})\n",
    "dates_init = soup.findAll('time')\n",
    "\n",
    "        \n",
    "companies_init[0].text.strip()\n",
    "new_locations_init[5].text.strip()\n",
    "len(new_locations_init)"
   ]
  },
  {
   "cell_type": "code",
   "execution_count": 7,
   "id": "b52b6dcc",
   "metadata": {},
   "outputs": [],
   "source": [
    "companies = []\n",
    "locations = []\n",
    "titles = []\n",
    "dates = []\n",
    "\n",
    "for i in range(len(companies_init)):\n",
    "    companies.append(companies_init[i].text.strip())\n",
    "    locations.append(new_locations_init[i].text.strip())\n",
    "    titles.append(job_titles_init[i].text.strip())\n",
    "    dates.append(dates_init[i].text.strip())\n",
    "    "
   ]
  },
  {
   "cell_type": "code",
   "execution_count": 8,
   "id": "17ce9b8e",
   "metadata": {},
   "outputs": [],
   "source": [
    "#companies\n",
    "#locations\n",
    "#titles\n",
    "#dates"
   ]
  },
  {
   "cell_type": "markdown",
   "id": "3d46cf29",
   "metadata": {},
   "source": [
    "## d)  Turn into dataframe."
   ]
  },
  {
   "cell_type": "code",
   "execution_count": 9,
   "id": "50a5e1b3",
   "metadata": {},
   "outputs": [
    {
     "data": {
      "text/html": [
       "<div>\n",
       "<style scoped>\n",
       "    .dataframe tbody tr th:only-of-type {\n",
       "        vertical-align: middle;\n",
       "    }\n",
       "\n",
       "    .dataframe tbody tr th {\n",
       "        vertical-align: top;\n",
       "    }\n",
       "\n",
       "    .dataframe thead th {\n",
       "        text-align: right;\n",
       "    }\n",
       "</style>\n",
       "<table border=\"1\" class=\"dataframe\">\n",
       "  <thead>\n",
       "    <tr style=\"text-align: right;\">\n",
       "      <th></th>\n",
       "      <th>job_title</th>\n",
       "      <th>company</th>\n",
       "      <th>location</th>\n",
       "      <th>post_date</th>\n",
       "    </tr>\n",
       "  </thead>\n",
       "  <tbody>\n",
       "    <tr>\n",
       "      <th>0</th>\n",
       "      <td>Senior Python Developer</td>\n",
       "      <td>Payne, Roberts and Davis</td>\n",
       "      <td>Stewartbury, AA</td>\n",
       "      <td>2021-04-08</td>\n",
       "    </tr>\n",
       "    <tr>\n",
       "      <th>1</th>\n",
       "      <td>Energy engineer</td>\n",
       "      <td>Vasquez-Davidson</td>\n",
       "      <td>Christopherville, AA</td>\n",
       "      <td>2021-04-08</td>\n",
       "    </tr>\n",
       "    <tr>\n",
       "      <th>2</th>\n",
       "      <td>Legal executive</td>\n",
       "      <td>Jackson, Chambers and Levy</td>\n",
       "      <td>Port Ericaburgh, AA</td>\n",
       "      <td>2021-04-08</td>\n",
       "    </tr>\n",
       "    <tr>\n",
       "      <th>3</th>\n",
       "      <td>Fitness centre manager</td>\n",
       "      <td>Savage-Bradley</td>\n",
       "      <td>East Seanview, AP</td>\n",
       "      <td>2021-04-08</td>\n",
       "    </tr>\n",
       "    <tr>\n",
       "      <th>4</th>\n",
       "      <td>Product manager</td>\n",
       "      <td>Ramirez Inc</td>\n",
       "      <td>North Jamieview, AP</td>\n",
       "      <td>2021-04-08</td>\n",
       "    </tr>\n",
       "  </tbody>\n",
       "</table>\n",
       "</div>"
      ],
      "text/plain": [
       "                 job_title                     company              location  \\\n",
       "0  Senior Python Developer    Payne, Roberts and Davis       Stewartbury, AA   \n",
       "1          Energy engineer            Vasquez-Davidson  Christopherville, AA   \n",
       "2          Legal executive  Jackson, Chambers and Levy   Port Ericaburgh, AA   \n",
       "3   Fitness centre manager              Savage-Bradley     East Seanview, AP   \n",
       "4          Product manager                 Ramirez Inc   North Jamieview, AP   \n",
       "\n",
       "    post_date  \n",
       "0  2021-04-08  \n",
       "1  2021-04-08  \n",
       "2  2021-04-08  \n",
       "3  2021-04-08  \n",
       "4  2021-04-08  "
      ]
     },
     "execution_count": 9,
     "metadata": {},
     "output_type": "execute_result"
    }
   ],
   "source": [
    "jobs = pd.DataFrame({\n",
    "    'job_title' : titles,\n",
    "    'company' : companies,\n",
    "    'location' : locations,\n",
    "    'post_date': dates\n",
    "})\n",
    "jobs.head(5)"
   ]
  },
  {
   "cell_type": "markdown",
   "id": "3ba8dba6",
   "metadata": {},
   "source": [
    "## 2)  Next, add a column that contains the url for the \"Apply\" button. Try this in two ways."
   ]
  },
  {
   "cell_type": "markdown",
   "id": "8035b349",
   "metadata": {},
   "source": [
    "## a)   Use beautiful soup method to find all URL's.\n"
   ]
  },
  {
   "cell_type": "code",
   "execution_count": 10,
   "id": "28d9c6b8",
   "metadata": {},
   "outputs": [],
   "source": [
    "urls_init =soup.findAll('a')"
   ]
  },
  {
   "cell_type": "code",
   "execution_count": 11,
   "id": "69d7f1c8",
   "metadata": {},
   "outputs": [
    {
     "data": {
      "text/plain": [
       "'https://www.realpython.com'"
      ]
     },
     "execution_count": 11,
     "metadata": {},
     "output_type": "execute_result"
    }
   ],
   "source": [
    "urls_init[0]['href']"
   ]
  },
  {
   "cell_type": "code",
   "execution_count": 12,
   "id": "ab1ae69b",
   "metadata": {},
   "outputs": [],
   "source": [
    "urls = []\n",
    "for i in range(len(urls_init)):\n",
    "    if i%2 != 0:\n",
    "        urls.append(urls_init[i]['href'])\n",
    "        \n",
    "#print(len(urls))\n",
    "\n",
    "\n",
    "jobs['job_urls'] = urls\n",
    "#jobs\n",
    "#urls[0]\n"
   ]
  },
  {
   "cell_type": "code",
   "execution_count": 13,
   "id": "e64ea8c8",
   "metadata": {},
   "outputs": [
    {
     "data": {
      "text/plain": [
       "'senior-python-developer'"
      ]
     },
     "execution_count": 13,
     "metadata": {},
     "output_type": "execute_result"
    }
   ],
   "source": [
    "urls[3]\n",
    "titles[0].lower().strip().replace(\" \",\"-\")"
   ]
  },
  {
   "cell_type": "markdown",
   "id": "251b6366",
   "metadata": {},
   "source": [
    "## b)"
   ]
  },
  {
   "cell_type": "code",
   "execution_count": 14,
   "id": "bb762e02",
   "metadata": {},
   "outputs": [],
   "source": [
    "urls2 = []\n",
    "\n",
    "for i in range(len(titles)):\n",
    "    \n",
    "    url_title = titles[i].lower().strip().replace(\" \",\"-\").replace(\"/\",\"-\").replace(\",\",\"\").replace(\"(\",\"\").replace(\")\",\"\")\n",
    "    url_text = f'https://realpython.github.io/fake-jobs/jobs/{url_title}-{i}.html'\n",
    "    urls2.append(url_text)\n",
    "    \n",
    "    "
   ]
  },
  {
   "cell_type": "code",
   "execution_count": 15,
   "id": "7d6b7637",
   "metadata": {},
   "outputs": [],
   "source": [
    "for i in range(len(urls)):\n",
    "    if urls[i] != urls2[i]:\n",
    "        print(f'Not matched at {i} index.')"
   ]
  },
  {
   "cell_type": "code",
   "execution_count": 16,
   "id": "a807ce09",
   "metadata": {},
   "outputs": [
    {
     "data": {
      "text/html": [
       "<div>\n",
       "<style scoped>\n",
       "    .dataframe tbody tr th:only-of-type {\n",
       "        vertical-align: middle;\n",
       "    }\n",
       "\n",
       "    .dataframe tbody tr th {\n",
       "        vertical-align: top;\n",
       "    }\n",
       "\n",
       "    .dataframe thead th {\n",
       "        text-align: right;\n",
       "    }\n",
       "</style>\n",
       "<table border=\"1\" class=\"dataframe\">\n",
       "  <thead>\n",
       "    <tr style=\"text-align: right;\">\n",
       "      <th></th>\n",
       "      <th>job_title</th>\n",
       "      <th>company</th>\n",
       "      <th>location</th>\n",
       "      <th>post_date</th>\n",
       "      <th>job_urls</th>\n",
       "      <th>job_urls_2</th>\n",
       "    </tr>\n",
       "  </thead>\n",
       "  <tbody>\n",
       "    <tr>\n",
       "      <th>0</th>\n",
       "      <td>Senior Python Developer</td>\n",
       "      <td>Payne, Roberts and Davis</td>\n",
       "      <td>Stewartbury, AA</td>\n",
       "      <td>2021-04-08</td>\n",
       "      <td>https://realpython.github.io/fake-jobs/jobs/se...</td>\n",
       "      <td>https://realpython.github.io/fake-jobs/jobs/se...</td>\n",
       "    </tr>\n",
       "    <tr>\n",
       "      <th>1</th>\n",
       "      <td>Energy engineer</td>\n",
       "      <td>Vasquez-Davidson</td>\n",
       "      <td>Christopherville, AA</td>\n",
       "      <td>2021-04-08</td>\n",
       "      <td>https://realpython.github.io/fake-jobs/jobs/en...</td>\n",
       "      <td>https://realpython.github.io/fake-jobs/jobs/en...</td>\n",
       "    </tr>\n",
       "    <tr>\n",
       "      <th>2</th>\n",
       "      <td>Legal executive</td>\n",
       "      <td>Jackson, Chambers and Levy</td>\n",
       "      <td>Port Ericaburgh, AA</td>\n",
       "      <td>2021-04-08</td>\n",
       "      <td>https://realpython.github.io/fake-jobs/jobs/le...</td>\n",
       "      <td>https://realpython.github.io/fake-jobs/jobs/le...</td>\n",
       "    </tr>\n",
       "  </tbody>\n",
       "</table>\n",
       "</div>"
      ],
      "text/plain": [
       "                 job_title                     company              location  \\\n",
       "0  Senior Python Developer    Payne, Roberts and Davis       Stewartbury, AA   \n",
       "1          Energy engineer            Vasquez-Davidson  Christopherville, AA   \n",
       "2          Legal executive  Jackson, Chambers and Levy   Port Ericaburgh, AA   \n",
       "\n",
       "    post_date                                           job_urls  \\\n",
       "0  2021-04-08  https://realpython.github.io/fake-jobs/jobs/se...   \n",
       "1  2021-04-08  https://realpython.github.io/fake-jobs/jobs/en...   \n",
       "2  2021-04-08  https://realpython.github.io/fake-jobs/jobs/le...   \n",
       "\n",
       "                                          job_urls_2  \n",
       "0  https://realpython.github.io/fake-jobs/jobs/se...  \n",
       "1  https://realpython.github.io/fake-jobs/jobs/en...  \n",
       "2  https://realpython.github.io/fake-jobs/jobs/le...  "
      ]
     },
     "execution_count": 16,
     "metadata": {},
     "output_type": "execute_result"
    }
   ],
   "source": [
    "jobs['job_urls_2'] = urls2\n",
    "jobs.head(3)"
   ]
  },
  {
   "cell_type": "markdown",
   "id": "158d0d77",
   "metadata": {},
   "source": [
    "## #3) Get job descriptions for each job."
   ]
  },
  {
   "cell_type": "markdown",
   "id": "2f939b4c",
   "metadata": {},
   "source": [
    "## a)  Get job description for first page."
   ]
  },
  {
   "cell_type": "code",
   "execution_count": 17,
   "id": "1bfb496c",
   "metadata": {},
   "outputs": [
    {
     "data": {
      "text/plain": [
       "'Professional asset web application environmentally friendly detail-oriented asset. Coordinate educational dashboard agile employ growth opportunity. Company programs CSS explore role. Html educational grit web application. Oversea SCRUM talented support. Web Application fast-growing communities inclusive programs job CSS. Css discussions growth opportunity explore open-minded oversee. Css Python environmentally friendly collaborate inclusive role. Django no experience oversee dashboard environmentally friendly willing to learn programs. Programs open-minded programs asset.'"
      ]
     },
     "execution_count": 17,
     "metadata": {},
     "output_type": "execute_result"
    }
   ],
   "source": [
    "URL_Job1 = 'https://realpython.github.io/fake-jobs/jobs/senior-python-developer-0.html'\n",
    "\n",
    "response = requests.get(URL_Job1)\n",
    "response.status_code\n",
    "soup1st = BeautifulSoup(response.text, features=\"html.parser\")\n",
    "soup1st.findAll('p')[1].text"
   ]
  },
  {
   "cell_type": "markdown",
   "id": "23590b68",
   "metadata": {},
   "source": [
    "## b)  Create function that gets job description for any url."
   ]
  },
  {
   "cell_type": "code",
   "execution_count": 18,
   "id": "082bb1f4",
   "metadata": {},
   "outputs": [
    {
     "data": {
      "text/plain": [
       "'At be than always different American address. Former claim chance prevent why measure too. Almost before some military outside baby interview. Face top individual win suddenly. Parent do ten after those scientist. Medical effort assume teacher wall. Significant his himself clearly very. Expert stop area along individual. Three own bank recognize special good along.'"
      ]
     },
     "execution_count": 18,
     "metadata": {},
     "output_type": "execute_result"
    }
   ],
   "source": [
    "def get_job_desc(url):\n",
    "    response = requests.get(url)\n",
    "    soup1st = BeautifulSoup(response.text, features=\"html.parser\")\n",
    "    return(soup1st.findAll('p')[1].text)\n",
    "\n",
    "get_job_desc('https://realpython.github.io/fake-jobs/jobs/senior-python-developer-0.html')\n",
    "get_job_desc(\"https://realpython.github.io/fake-jobs/jobs/television-floor-manager-8.html\")"
   ]
  },
  {
   "cell_type": "markdown",
   "id": "62d0228d",
   "metadata": {},
   "source": [
    "## c) Use .apply on the url series from dataframe to get all descriptions."
   ]
  },
  {
   "cell_type": "code",
   "execution_count": 19,
   "id": "10c73fd2",
   "metadata": {},
   "outputs": [],
   "source": [
    "descriptions = jobs['job_urls'].apply(get_job_desc)"
   ]
  },
  {
   "cell_type": "code",
   "execution_count": 20,
   "id": "26660c76",
   "metadata": {},
   "outputs": [],
   "source": [
    "jobs['descriptions'] = descriptions"
   ]
  },
  {
   "cell_type": "code",
   "execution_count": 21,
   "id": "20e1c0ec",
   "metadata": {},
   "outputs": [
    {
     "data": {
      "text/html": [
       "<div>\n",
       "<style scoped>\n",
       "    .dataframe tbody tr th:only-of-type {\n",
       "        vertical-align: middle;\n",
       "    }\n",
       "\n",
       "    .dataframe tbody tr th {\n",
       "        vertical-align: top;\n",
       "    }\n",
       "\n",
       "    .dataframe thead th {\n",
       "        text-align: right;\n",
       "    }\n",
       "</style>\n",
       "<table border=\"1\" class=\"dataframe\">\n",
       "  <thead>\n",
       "    <tr style=\"text-align: right;\">\n",
       "      <th></th>\n",
       "      <th>job_title</th>\n",
       "      <th>company</th>\n",
       "      <th>location</th>\n",
       "      <th>post_date</th>\n",
       "      <th>job_urls</th>\n",
       "      <th>job_urls_2</th>\n",
       "      <th>descriptions</th>\n",
       "    </tr>\n",
       "  </thead>\n",
       "  <tbody>\n",
       "    <tr>\n",
       "      <th>0</th>\n",
       "      <td>Senior Python Developer</td>\n",
       "      <td>Payne, Roberts and Davis</td>\n",
       "      <td>Stewartbury, AA</td>\n",
       "      <td>2021-04-08</td>\n",
       "      <td>https://realpython.github.io/fake-jobs/jobs/se...</td>\n",
       "      <td>https://realpython.github.io/fake-jobs/jobs/se...</td>\n",
       "      <td>Professional asset web application environment...</td>\n",
       "    </tr>\n",
       "    <tr>\n",
       "      <th>1</th>\n",
       "      <td>Energy engineer</td>\n",
       "      <td>Vasquez-Davidson</td>\n",
       "      <td>Christopherville, AA</td>\n",
       "      <td>2021-04-08</td>\n",
       "      <td>https://realpython.github.io/fake-jobs/jobs/en...</td>\n",
       "      <td>https://realpython.github.io/fake-jobs/jobs/en...</td>\n",
       "      <td>Party prevent live. Quickly candidate change a...</td>\n",
       "    </tr>\n",
       "  </tbody>\n",
       "</table>\n",
       "</div>"
      ],
      "text/plain": [
       "                 job_title                   company              location  \\\n",
       "0  Senior Python Developer  Payne, Roberts and Davis       Stewartbury, AA   \n",
       "1          Energy engineer          Vasquez-Davidson  Christopherville, AA   \n",
       "\n",
       "    post_date                                           job_urls  \\\n",
       "0  2021-04-08  https://realpython.github.io/fake-jobs/jobs/se...   \n",
       "1  2021-04-08  https://realpython.github.io/fake-jobs/jobs/en...   \n",
       "\n",
       "                                          job_urls_2  \\\n",
       "0  https://realpython.github.io/fake-jobs/jobs/se...   \n",
       "1  https://realpython.github.io/fake-jobs/jobs/en...   \n",
       "\n",
       "                                        descriptions  \n",
       "0  Professional asset web application environment...  \n",
       "1  Party prevent live. Quickly candidate change a...  "
      ]
     },
     "execution_count": 21,
     "metadata": {},
     "output_type": "execute_result"
    }
   ],
   "source": [
    "jobs.head(2)"
   ]
  },
  {
   "cell_type": "markdown",
   "id": "973b04ef",
   "metadata": {},
   "source": [
    "## Webscraping Bonus"
   ]
  },
  {
   "cell_type": "markdown",
   "id": "9a28cfa9",
   "metadata": {},
   "source": [
    "## 1. Navigate to https://www.billboard.com/charts/hot-100/. Using BeautifulSoup, extract out the This Week, artist, song, Last Week, Peak Position, and Weeks on Chart values into a pandas DataFrame. Hint: The HTML for the number one ranked song is slightly different from that of the rest of the songs."
   ]
  },
  {
   "cell_type": "code",
   "execution_count": 93,
   "id": "3cff5965",
   "metadata": {},
   "outputs": [],
   "source": [
    "URL = 'https://www.billboard.com/charts/hot-100'\n",
    "\n",
    "response = requests.get(URL)\n",
    "response.status_code\n",
    "\n",
    "soup = BeautifulSoup(response.text, features=\"html.parser\")\n",
    "\n",
    "#ThisWeek = soup.findAll('span', attrs = {'class':'c-label'})\n",
    "#ThisWeek = soup.select('span.c-label  a-font-primary-bold-l u-font-size-32@tablet u-letter-spacing-0080@tablet')\n",
    "\n",
    "ThisWeek = soup.select('span.c-label.a-font-primary-bold-l')\n",
    "Artist = soup.select('span.c-label.a-no-trucate')\n",
    "Song = soup.select('h3.c-title.a-no-trucate')\n",
    "LWPPWOC = soup.select('span.c-label.a-font-primary-m')\n",
    "LastWeek = []\n",
    "PeakPosition = []\n",
    "WeeksOnChart = []\n",
    "#Song = soup.find_all('h3', id_='title-of-a-story')\n",
    "\n",
    "record = True\n",
    "\n",
    "LastWeek.append(ThisWeek[1].text.strip())\n",
    "PeakPosition.append(ThisWeek[2].text.strip())\n",
    "WeeksOnChart.append(ThisWeek[3].text.strip())\n",
    "for i in range(int(len(LWPPWOC) / 6)):\n",
    "    LastWeek.append(LWPPWOC[i*6].text.strip())\n",
    "    PeakPosition.append(LWPPWOC[(i*6) + 1].text.strip())\n",
    "    WeeksOnChart.append(LWPPWOC[(i*6) + 2].text.strip())\n",
    "    \n",
    "\n",
    "#ThisWeek[105].text.strip()\n",
    "#soup.select\n",
    "ThisWeekNew = []\n",
    "ThisWeekNew.append(ThisWeek[0].text.strip())\n",
    "for i in range(99):\n",
    "    ThisWeekNew.append(ThisWeek[i+7].text.strip())\n",
    "    \n",
    "ArtistNew = []\n",
    "for i in range(len(Artist)):\n",
    "    ArtistNew.append(Artist[i].text.strip())\n",
    "    \n",
    "SongNew = []\n",
    "for i in range(len(Song)):\n",
    "    SongNew.append(Song[i].text.strip())\n",
    "    \n",
    "Song = SongNew\n",
    "Artist = ArtistNew\n",
    "ThisWeek = ThisWeekNew"
   ]
  },
  {
   "cell_type": "code",
   "execution_count": 94,
   "id": "d805026b",
   "metadata": {},
   "outputs": [
    {
     "data": {
      "text/html": [
       "<div>\n",
       "<style scoped>\n",
       "    .dataframe tbody tr th:only-of-type {\n",
       "        vertical-align: middle;\n",
       "    }\n",
       "\n",
       "    .dataframe tbody tr th {\n",
       "        vertical-align: top;\n",
       "    }\n",
       "\n",
       "    .dataframe thead th {\n",
       "        text-align: right;\n",
       "    }\n",
       "</style>\n",
       "<table border=\"1\" class=\"dataframe\">\n",
       "  <thead>\n",
       "    <tr style=\"text-align: right;\">\n",
       "      <th></th>\n",
       "      <th>Position</th>\n",
       "      <th>Song</th>\n",
       "      <th>Artist</th>\n",
       "      <th>LastWeek</th>\n",
       "      <th>PeakPosition</th>\n",
       "      <th>WeeksOnChart</th>\n",
       "    </tr>\n",
       "  </thead>\n",
       "  <tbody>\n",
       "    <tr>\n",
       "      <th>0</th>\n",
       "      <td>1</td>\n",
       "      <td>Love Somebody</td>\n",
       "      <td>Morgan Wallen</td>\n",
       "      <td>-</td>\n",
       "      <td>1</td>\n",
       "      <td>1</td>\n",
       "    </tr>\n",
       "    <tr>\n",
       "      <th>1</th>\n",
       "      <td>2</td>\n",
       "      <td>A Bar Song (Tipsy)</td>\n",
       "      <td>Shaboozey</td>\n",
       "      <td>1</td>\n",
       "      <td>1</td>\n",
       "      <td>28</td>\n",
       "    </tr>\n",
       "    <tr>\n",
       "      <th>2</th>\n",
       "      <td>3</td>\n",
       "      <td>Birds Of A Feather</td>\n",
       "      <td>Billie Eilish</td>\n",
       "      <td>2</td>\n",
       "      <td>2</td>\n",
       "      <td>23</td>\n",
       "    </tr>\n",
       "    <tr>\n",
       "      <th>3</th>\n",
       "      <td>4</td>\n",
       "      <td>Die With A Smile</td>\n",
       "      <td>Lady Gaga &amp; Bruno Mars</td>\n",
       "      <td>4</td>\n",
       "      <td>3</td>\n",
       "      <td>10</td>\n",
       "    </tr>\n",
       "    <tr>\n",
       "      <th>4</th>\n",
       "      <td>5</td>\n",
       "      <td>Espresso</td>\n",
       "      <td>Sabrina Carpenter</td>\n",
       "      <td>3</td>\n",
       "      <td>3</td>\n",
       "      <td>28</td>\n",
       "    </tr>\n",
       "  </tbody>\n",
       "</table>\n",
       "</div>"
      ],
      "text/plain": [
       "  Position                Song                  Artist LastWeek PeakPosition  \\\n",
       "0        1       Love Somebody           Morgan Wallen        -            1   \n",
       "1        2  A Bar Song (Tipsy)               Shaboozey        1            1   \n",
       "2        3  Birds Of A Feather           Billie Eilish        2            2   \n",
       "3        4    Die With A Smile  Lady Gaga & Bruno Mars        4            3   \n",
       "4        5            Espresso       Sabrina Carpenter        3            3   \n",
       "\n",
       "  WeeksOnChart  \n",
       "0            1  \n",
       "1           28  \n",
       "2           23  \n",
       "3           10  \n",
       "4           28  "
      ]
     },
     "execution_count": 94,
     "metadata": {},
     "output_type": "execute_result"
    }
   ],
   "source": [
    "Billboard = pd.DataFrame({\n",
    "    'Position': ThisWeek,\n",
    "    'Song' : Song,\n",
    "    'Artist' : Artist,\n",
    "    'LastWeek' : LastWeek,\n",
    "    'PeakPosition': PeakPosition,\n",
    "    'WeeksOnChart': WeeksOnChart\n",
    "})\n",
    "Billboard.head(5)"
   ]
  },
  {
   "cell_type": "markdown",
   "id": "3b8b8f60",
   "metadata": {},
   "source": [
    "## #2)"
   ]
  },
  {
   "cell_type": "code",
   "execution_count": 99,
   "id": "bc2b00b0",
   "metadata": {},
   "outputs": [
    {
     "data": {
      "text/html": [
       "<div>\n",
       "<style scoped>\n",
       "    .dataframe tbody tr th:only-of-type {\n",
       "        vertical-align: middle;\n",
       "    }\n",
       "\n",
       "    .dataframe tbody tr th {\n",
       "        vertical-align: top;\n",
       "    }\n",
       "\n",
       "    .dataframe thead th {\n",
       "        text-align: right;\n",
       "    }\n",
       "</style>\n",
       "<table border=\"1\" class=\"dataframe\">\n",
       "  <thead>\n",
       "    <tr style=\"text-align: right;\">\n",
       "      <th></th>\n",
       "      <th>Position</th>\n",
       "      <th>Song</th>\n",
       "      <th>Artist</th>\n",
       "      <th>LastWeek</th>\n",
       "      <th>PeakPosition</th>\n",
       "      <th>WeeksOnChart</th>\n",
       "    </tr>\n",
       "  </thead>\n",
       "  <tbody>\n",
       "    <tr>\n",
       "      <th>0</th>\n",
       "      <td>1</td>\n",
       "      <td>U Remind Me</td>\n",
       "      <td>Usher</td>\n",
       "      <td>1</td>\n",
       "      <td>1</td>\n",
       "      <td>6</td>\n",
       "    </tr>\n",
       "    <tr>\n",
       "      <th>1</th>\n",
       "      <td>2</td>\n",
       "      <td>Hit 'Em Up Style (Oops!)</td>\n",
       "      <td>Blu Cantrell</td>\n",
       "      <td>5</td>\n",
       "      <td>2</td>\n",
       "      <td>12</td>\n",
       "    </tr>\n",
       "    <tr>\n",
       "      <th>2</th>\n",
       "      <td>3</td>\n",
       "      <td>Let Me Blow Ya Mind</td>\n",
       "      <td>Eve Featuring Gwen Stefani</td>\n",
       "      <td>4</td>\n",
       "      <td>3</td>\n",
       "      <td>13</td>\n",
       "    </tr>\n",
       "    <tr>\n",
       "      <th>3</th>\n",
       "      <td>4</td>\n",
       "      <td>Peaches &amp; Cream</td>\n",
       "      <td>112</td>\n",
       "      <td>6</td>\n",
       "      <td>4</td>\n",
       "      <td>15</td>\n",
       "    </tr>\n",
       "    <tr>\n",
       "      <th>4</th>\n",
       "      <td>5</td>\n",
       "      <td>Hanging By A Moment</td>\n",
       "      <td>Lifehouse</td>\n",
       "      <td>2</td>\n",
       "      <td>2</td>\n",
       "      <td>24</td>\n",
       "    </tr>\n",
       "    <tr>\n",
       "      <th>...</th>\n",
       "      <td>...</td>\n",
       "      <td>...</td>\n",
       "      <td>...</td>\n",
       "      <td>...</td>\n",
       "      <td>...</td>\n",
       "      <td>...</td>\n",
       "    </tr>\n",
       "    <tr>\n",
       "      <th>95</th>\n",
       "      <td>96</td>\n",
       "      <td>Video</td>\n",
       "      <td>India.Arie</td>\n",
       "      <td>97</td>\n",
       "      <td>47</td>\n",
       "      <td>17</td>\n",
       "    </tr>\n",
       "    <tr>\n",
       "      <th>96</th>\n",
       "      <td>97</td>\n",
       "      <td>Let's Get It</td>\n",
       "      <td>Three The... G. Dep, P. Diddy &amp; Black Rob</td>\n",
       "      <td>88</td>\n",
       "      <td>80</td>\n",
       "      <td>9</td>\n",
       "    </tr>\n",
       "    <tr>\n",
       "      <th>97</th>\n",
       "      <td>98</td>\n",
       "      <td>Can't Deny It</td>\n",
       "      <td>Fabolous Featuring Nate Dogg</td>\n",
       "      <td>-</td>\n",
       "      <td>98</td>\n",
       "      <td>1</td>\n",
       "    </tr>\n",
       "    <tr>\n",
       "      <th>98</th>\n",
       "      <td>99</td>\n",
       "      <td>I'm A Thug</td>\n",
       "      <td>Trick Daddy</td>\n",
       "      <td>-</td>\n",
       "      <td>99</td>\n",
       "      <td>1</td>\n",
       "    </tr>\n",
       "    <tr>\n",
       "      <th>99</th>\n",
       "      <td>100</td>\n",
       "      <td>Until The End Of Time</td>\n",
       "      <td>2Pac</td>\n",
       "      <td>92</td>\n",
       "      <td>52</td>\n",
       "      <td>14</td>\n",
       "    </tr>\n",
       "  </tbody>\n",
       "</table>\n",
       "<p>100 rows × 6 columns</p>\n",
       "</div>"
      ],
      "text/plain": [
       "   Position                      Song  \\\n",
       "0         1               U Remind Me   \n",
       "1         2  Hit 'Em Up Style (Oops!)   \n",
       "2         3       Let Me Blow Ya Mind   \n",
       "3         4           Peaches & Cream   \n",
       "4         5       Hanging By A Moment   \n",
       "..      ...                       ...   \n",
       "95       96                     Video   \n",
       "96       97              Let's Get It   \n",
       "97       98             Can't Deny It   \n",
       "98       99                I'm A Thug   \n",
       "99      100     Until The End Of Time   \n",
       "\n",
       "                                       Artist LastWeek PeakPosition  \\\n",
       "0                                       Usher        1            1   \n",
       "1                                Blu Cantrell        5            2   \n",
       "2                  Eve Featuring Gwen Stefani        4            3   \n",
       "3                                         112        6            4   \n",
       "4                                   Lifehouse        2            2   \n",
       "..                                        ...      ...          ...   \n",
       "95                                 India.Arie       97           47   \n",
       "96  Three The... G. Dep, P. Diddy & Black Rob       88           80   \n",
       "97               Fabolous Featuring Nate Dogg        -           98   \n",
       "98                                Trick Daddy        -           99   \n",
       "99                                       2Pac       92           52   \n",
       "\n",
       "   WeeksOnChart  \n",
       "0             6  \n",
       "1            12  \n",
       "2            13  \n",
       "3            15  \n",
       "4            24  \n",
       "..          ...  \n",
       "95           17  \n",
       "96            9  \n",
       "97            1  \n",
       "98            1  \n",
       "99           14  \n",
       "\n",
       "[100 rows x 6 columns]"
      ]
     },
     "execution_count": 99,
     "metadata": {},
     "output_type": "execute_result"
    }
   ],
   "source": [
    "def top_bill_date_df(date):\n",
    "    \"\"\"\n",
    "    Format for date is \"yyyy-mm-dd\"\n",
    "    \n",
    "    \"\"\"\n",
    "    URL = f'https://www.billboard.com/charts/hot-100/{date}'\n",
    "\n",
    "    response = requests.get(URL)\n",
    "    response.status_code\n",
    "\n",
    "    soup = BeautifulSoup(response.text, features=\"html.parser\")\n",
    "\n",
    "    #ThisWeek = soup.findAll('span', attrs = {'class':'c-label'})\n",
    "    #ThisWeek = soup.select('span.c-label  a-font-primary-bold-l u-font-size-32@tablet u-letter-spacing-0080@tablet')\n",
    "\n",
    "    ThisWeek = soup.select('span.c-label.a-font-primary-bold-l')\n",
    "    Artist = soup.select('span.c-label.a-no-trucate')\n",
    "    Song = soup.select('h3.c-title.a-no-trucate')\n",
    "    LWPPWOC = soup.select('span.c-label.a-font-primary-m')\n",
    "    LastWeek = []\n",
    "    PeakPosition = []\n",
    "    WeeksOnChart = []\n",
    "    #Song = soup.find_all('h3', id_='title-of-a-story')\n",
    "\n",
    "    record = True\n",
    "\n",
    "    LastWeek.append(ThisWeek[1].text.strip())\n",
    "    PeakPosition.append(ThisWeek[2].text.strip())\n",
    "    WeeksOnChart.append(ThisWeek[3].text.strip())\n",
    "    for i in range(int(len(LWPPWOC) / 6)):\n",
    "        LastWeek.append(LWPPWOC[i*6].text.strip())\n",
    "        PeakPosition.append(LWPPWOC[(i*6) + 1].text.strip())\n",
    "        WeeksOnChart.append(LWPPWOC[(i*6) + 2].text.strip())\n",
    "\n",
    "\n",
    "    #ThisWeek[105].text.strip()\n",
    "    #soup.select\n",
    "    ThisWeekNew = []\n",
    "    ThisWeekNew.append(ThisWeek[0].text.strip())\n",
    "    for i in range(99):\n",
    "        ThisWeekNew.append(ThisWeek[i+7].text.strip())\n",
    "\n",
    "    ArtistNew = []\n",
    "    for i in range(len(Artist)):\n",
    "        ArtistNew.append(Artist[i].text.strip())\n",
    "\n",
    "    SongNew = []\n",
    "    for i in range(len(Song)):\n",
    "        SongNew.append(Song[i].text.strip())\n",
    "\n",
    "    Song = SongNew\n",
    "    Artist = ArtistNew\n",
    "    ThisWeek = ThisWeekNew\n",
    "\n",
    "    Billboard = pd.DataFrame({\n",
    "        'Position': ThisWeek,\n",
    "        'Song' : Song,\n",
    "        'Artist' : Artist,\n",
    "        'LastWeek' : LastWeek,\n",
    "        'PeakPosition': PeakPosition,\n",
    "        'WeeksOnChart': WeeksOnChart\n",
    "    })\n",
    "\n",
    "    return Billboard\n",
    "\n",
    "top_bill_date_df('2001-07-16')"
   ]
  },
  {
   "cell_type": "markdown",
   "id": "4fc033bd",
   "metadata": {},
   "source": [
    "## #3)"
   ]
  },
  {
   "cell_type": "code",
   "execution_count": 106,
   "id": "a0e26346",
   "metadata": {},
   "outputs": [
    {
     "data": {
      "text/plain": [
       "'2024-10-24'"
      ]
     },
     "execution_count": 106,
     "metadata": {},
     "output_type": "execute_result"
    }
   ],
   "source": [
    "dt.datetime.today().strftime(\"%Y-%m-%d\")\n",
    "\n",
    "(dt.datetime.today() - timedelta(weeks=1)).strftime(\"%Y-%m-%d\")"
   ]
  },
  {
   "cell_type": "code",
   "execution_count": 108,
   "id": "1585b59d",
   "metadata": {},
   "outputs": [],
   "source": [
    "list_of_weekly_df = []\n",
    "for i in range(10):\n",
    "    list_of_weekly_df.append(top_bill_date_df((dt.datetime.today() - timedelta(weeks=i)).strftime(\"%Y-%m-%d\")))"
   ]
  },
  {
   "cell_type": "markdown",
   "id": "1d40d4b0",
   "metadata": {},
   "source": [
    "## Nightmare mode Extra"
   ]
  },
  {
   "cell_type": "code",
   "execution_count": 123,
   "id": "26e90a20",
   "metadata": {},
   "outputs": [
    {
     "data": {
      "text/plain": [
       "\"A Tribute to Ramblin' Jack Elliott - CANCELED\""
      ]
     },
     "execution_count": 123,
     "metadata": {},
     "output_type": "execute_result"
    }
   ],
   "source": [
    "URL = 'https://www.ryman.com/events'\n",
    "\n",
    "response = requests.get(URL)\n",
    "response.status_code\n",
    "soup = BeautifulSoup(response.text, features=\"html.parser\")\n",
    "\n",
    "Headliners = soup.findAll('a', attrs = {'title':'More Info'})\n",
    "Headliners[7].text"
   ]
  },
  {
   "cell_type": "code",
   "execution_count": null,
   "id": "55cdf25d",
   "metadata": {},
   "outputs": [],
   "source": []
  }
 ],
 "metadata": {
  "kernelspec": {
   "display_name": "Python 3 (ipykernel)",
   "language": "python",
   "name": "python3"
  },
  "language_info": {
   "codemirror_mode": {
    "name": "ipython",
    "version": 3
   },
   "file_extension": ".py",
   "mimetype": "text/x-python",
   "name": "python",
   "nbconvert_exporter": "python",
   "pygments_lexer": "ipython3",
   "version": "3.11.5"
  }
 },
 "nbformat": 4,
 "nbformat_minor": 5
}
